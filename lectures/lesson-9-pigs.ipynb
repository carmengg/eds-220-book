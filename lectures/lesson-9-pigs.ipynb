{
 "cells": [
  {
   "cell_type": "code",
   "execution_count": 2,
   "metadata": {},
   "outputs": [],
   "source": [
    "import geopandas as gpd\n",
    "import pandas as pd\n",
    "import numpy as np\n",
    "\n",
    "import matplotlib.pyplot as plt"
   ]
  },
  {
   "cell_type": "code",
   "execution_count": 3,
   "metadata": {},
   "outputs": [
    {
     "data": {
      "text/html": [
       "<div>\n",
       "<style scoped>\n",
       "    .dataframe tbody tr th:only-of-type {\n",
       "        vertical-align: middle;\n",
       "    }\n",
       "\n",
       "    .dataframe tbody tr th {\n",
       "        vertical-align: top;\n",
       "    }\n",
       "\n",
       "    .dataframe thead th {\n",
       "        text-align: right;\n",
       "    }\n",
       "</style>\n",
       "<table border=\"1\" class=\"dataframe\">\n",
       "  <thead>\n",
       "    <tr style=\"text-align: right;\">\n",
       "      <th></th>\n",
       "      <th>gbifID</th>\n",
       "      <th>species</th>\n",
       "      <th>state</th>\n",
       "      <th>individual</th>\n",
       "      <th>day</th>\n",
       "      <th>month</th>\n",
       "      <th>year</th>\n",
       "      <th>inst</th>\n",
       "      <th>collection</th>\n",
       "      <th>catalogNum</th>\n",
       "      <th>identified</th>\n",
       "      <th>geometry</th>\n",
       "    </tr>\n",
       "  </thead>\n",
       "  <tbody>\n",
       "    <tr>\n",
       "      <th>0</th>\n",
       "      <td>899953814</td>\n",
       "      <td>Sus scrofa</td>\n",
       "      <td>California</td>\n",
       "      <td>NaN</td>\n",
       "      <td>22.0</td>\n",
       "      <td>3.0</td>\n",
       "      <td>2014.0</td>\n",
       "      <td>iNaturalist</td>\n",
       "      <td>Observations</td>\n",
       "      <td>581956</td>\n",
       "      <td>edwardrooks</td>\n",
       "      <td>POINT (-121.53812 37.08846)</td>\n",
       "    </tr>\n",
       "    <tr>\n",
       "      <th>1</th>\n",
       "      <td>899951348</td>\n",
       "      <td>Sus scrofa</td>\n",
       "      <td>California</td>\n",
       "      <td>NaN</td>\n",
       "      <td>9.0</td>\n",
       "      <td>6.0</td>\n",
       "      <td>2007.0</td>\n",
       "      <td>iNaturalist</td>\n",
       "      <td>Observations</td>\n",
       "      <td>576047</td>\n",
       "      <td>Bruce Freeman</td>\n",
       "      <td>POINT (-120.54942 35.47354)</td>\n",
       "    </tr>\n",
       "    <tr>\n",
       "      <th>2</th>\n",
       "      <td>896560733</td>\n",
       "      <td>Sus scrofa</td>\n",
       "      <td>California</td>\n",
       "      <td>NaN</td>\n",
       "      <td>20.0</td>\n",
       "      <td>12.0</td>\n",
       "      <td>1937.0</td>\n",
       "      <td>MVZ</td>\n",
       "      <td>Hild</td>\n",
       "      <td>MVZ:Hild:195</td>\n",
       "      <td>Museum of Vertebrate Zoology, University of Ca...</td>\n",
       "      <td>POINT (-122.27063 37.87610)</td>\n",
       "    </tr>\n",
       "    <tr>\n",
       "      <th>3</th>\n",
       "      <td>896559958</td>\n",
       "      <td>Sus scrofa</td>\n",
       "      <td>California</td>\n",
       "      <td>NaN</td>\n",
       "      <td>1.0</td>\n",
       "      <td>4.0</td>\n",
       "      <td>1969.0</td>\n",
       "      <td>MVZ</td>\n",
       "      <td>Hild</td>\n",
       "      <td>MVZ:Hild:1213</td>\n",
       "      <td>Museum of Vertebrate Zoology, University of Ca...</td>\n",
       "      <td>POINT (-121.82297 38.44543)</td>\n",
       "    </tr>\n",
       "    <tr>\n",
       "      <th>4</th>\n",
       "      <td>896559722</td>\n",
       "      <td>Sus scrofa</td>\n",
       "      <td>California</td>\n",
       "      <td>NaN</td>\n",
       "      <td>1.0</td>\n",
       "      <td>1.0</td>\n",
       "      <td>1961.0</td>\n",
       "      <td>MVZ</td>\n",
       "      <td>Hild</td>\n",
       "      <td>MVZ:Hild:1004</td>\n",
       "      <td>Museum of Vertebrate Zoology, University of Ca...</td>\n",
       "      <td>POINT (-121.74559 38.54882)</td>\n",
       "    </tr>\n",
       "  </tbody>\n",
       "</table>\n",
       "</div>"
      ],
      "text/plain": [
       "      gbifID     species       state  individual   day  month    year  \\\n",
       "0  899953814  Sus scrofa  California         NaN  22.0    3.0  2014.0   \n",
       "1  899951348  Sus scrofa  California         NaN   9.0    6.0  2007.0   \n",
       "2  896560733  Sus scrofa  California         NaN  20.0   12.0  1937.0   \n",
       "3  896559958  Sus scrofa  California         NaN   1.0    4.0  1969.0   \n",
       "4  896559722  Sus scrofa  California         NaN   1.0    1.0  1961.0   \n",
       "\n",
       "          inst    collection     catalogNum  \\\n",
       "0  iNaturalist  Observations         581956   \n",
       "1  iNaturalist  Observations         576047   \n",
       "2          MVZ          Hild   MVZ:Hild:195   \n",
       "3          MVZ          Hild  MVZ:Hild:1213   \n",
       "4          MVZ          Hild  MVZ:Hild:1004   \n",
       "\n",
       "                                          identified  \\\n",
       "0                                        edwardrooks   \n",
       "1                                      Bruce Freeman   \n",
       "2  Museum of Vertebrate Zoology, University of Ca...   \n",
       "3  Museum of Vertebrate Zoology, University of Ca...   \n",
       "4  Museum of Vertebrate Zoology, University of Ca...   \n",
       "\n",
       "                      geometry  \n",
       "0  POINT (-121.53812 37.08846)  \n",
       "1  POINT (-120.54942 35.47354)  \n",
       "2  POINT (-122.27063 37.87610)  \n",
       "3  POINT (-121.82297 38.44543)  \n",
       "4  POINT (-121.74559 38.54882)  "
      ]
     },
     "execution_count": 3,
     "metadata": {},
     "output_type": "execute_result"
    }
   ],
   "source": [
    "pigs = gpd.read_file('gbif_sus_scroga_california/gbif_sus_scroga_california.shp')\n",
    "pigs.head()"
   ]
  },
  {
   "cell_type": "code",
   "execution_count": 5,
   "metadata": {},
   "outputs": [
    {
     "name": "stdout",
     "output_type": "stream",
     "text": [
      "<class 'geopandas.geodataframe.GeoDataFrame'>\n",
      "<class 'geopandas.geoseries.GeoSeries'>\n",
      "<class 'pandas.core.series.Series'>\n"
     ]
    }
   ],
   "source": [
    "# type of the pigs dataframe \n",
    "print(type(pigs))\n",
    "\n",
    "# type of the geometry column\n",
    "print(type(pigs.geometry))\n",
    "\n",
    "# type of the gbifID column\n",
    "print(type(pigs.gbifID))"
   ]
  },
  {
   "cell_type": "code",
   "execution_count": 9,
   "metadata": {},
   "outputs": [
    {
     "name": "stdout",
     "output_type": "stream",
     "text": [
      "<class 'shapely.geometry.point.Point'>\n"
     ]
    }
   ],
   "source": [
    "print(type(pigs.geometry[0]))"
   ]
  },
  {
   "cell_type": "code",
   "execution_count": 10,
   "metadata": {},
   "outputs": [
    {
     "data": {
      "text/plain": [
       "<Geographic 2D CRS: EPSG:4326>\n",
       "Name: WGS 84\n",
       "Axis Info [ellipsoidal]:\n",
       "- Lat[north]: Geodetic latitude (degree)\n",
       "- Lon[east]: Geodetic longitude (degree)\n",
       "Area of Use:\n",
       "- name: World.\n",
       "- bounds: (-180.0, -90.0, 180.0, 90.0)\n",
       "Datum: World Geodetic System 1984 ensemble\n",
       "- Ellipsoid: WGS 84\n",
       "- Prime Meridian: Greenwich"
      ]
     },
     "execution_count": 10,
     "metadata": {},
     "output_type": "execute_result"
    }
   ],
   "source": [
    "pigs.crs"
   ]
  },
  {
   "cell_type": "code",
   "execution_count": 12,
   "metadata": {},
   "outputs": [
    {
     "data": {
      "text/plain": [
       "array([-124.29448 ,   32.593433, -115.4356  ,   40.934296])"
      ]
     },
     "execution_count": 12,
     "metadata": {},
     "output_type": "execute_result"
    }
   ],
   "source": [
    "pigs.total_bounds"
   ]
  },
  {
   "cell_type": "code",
   "execution_count": 27,
   "metadata": {},
   "outputs": [
    {
     "data": {
      "text/plain": [
       "year\n",
       "1818.0     31\n",
       "1910.0      1\n",
       "1925.0      1\n",
       "1927.0      4\n",
       "1929.0      3\n",
       "         ... \n",
       "2019.0    101\n",
       "2020.0    159\n",
       "2021.0    164\n",
       "2022.0    185\n",
       "2023.0     98\n",
       "Name: gbifID, Length: 61, dtype: int64"
      ]
     },
     "execution_count": 27,
     "metadata": {},
     "output_type": "execute_result"
    }
   ],
   "source": [
    "pigs.groupby('year').count().gbifID#.plot(kind='bar')"
   ]
  },
  {
   "cell_type": "code",
   "execution_count": 33,
   "metadata": {},
   "outputs": [
    {
     "data": {
      "text/plain": [
       "year\n",
       "1818.0     31\n",
       "1910.0      1\n",
       "1925.0      1\n",
       "1927.0      4\n",
       "1929.0      3\n",
       "         ... \n",
       "2019.0    101\n",
       "2020.0    159\n",
       "2021.0    164\n",
       "2022.0    185\n",
       "2023.0     98\n",
       "Name: count, Length: 61, dtype: int64"
      ]
     },
     "execution_count": 33,
     "metadata": {},
     "output_type": "execute_result"
    }
   ],
   "source": [
    "pigs.year.value_counts().sort_index()"
   ]
  },
  {
   "cell_type": "code",
   "execution_count": 34,
   "metadata": {},
   "outputs": [
    {
     "name": "stdout",
     "output_type": "stream",
     "text": [
      "1046\n"
     ]
    },
    {
     "data": {
      "text/plain": [
       "915"
      ]
     },
     "execution_count": 34,
     "metadata": {},
     "output_type": "execute_result"
    }
   ],
   "source": [
    "pigs_recent = pigs[pigs.year>=2000]\n",
    "print(len(pigs))\n",
    "len(pigs_recent)"
   ]
  },
  {
   "cell_type": "code",
   "execution_count": 36,
   "metadata": {},
   "outputs": [
    {
     "data": {
      "text/plain": [
       "<AxesSubplot:>"
      ]
     },
     "execution_count": 36,
     "metadata": {},
     "output_type": "execute_result"
    },
    {
     "data": {
      "image/png": "[encoded data removed]",
      "text/plain": [
       "<Figure size 432x288 with 1 Axes>"
      ]
     },
     "metadata": {
      "needs_background": "light"
     },
     "output_type": "display_data"
    }
   ],
   "source": [
    "# title = 'Reported \"Sus scrofa\" sightings in CA (200-2023)'\n",
    "pigs_recent.plot()"
   ]
  },
  {
   "cell_type": "code",
   "execution_count": null,
   "metadata": {},
   "outputs": [],
   "source": [
    "fig, ax = plt.subplots(figsize=(10, 10))"
   ]
  }
 ],
 "metadata": {
  "kernelspec": {
   "display_name": "Python 3.9.7 ('gee_env')",
   "language": "python",
   "name": "python3"
  },
  "language_info": {
   "codemirror_mode": {
    "name": "ipython",
    "version": 3
   },
   "file_extension": ".py",
   "mimetype": "text/x-python",
   "name": "python",
   "nbconvert_exporter": "python",
   "pygments_lexer": "ipython3",
   "version": "3.9.7"
  },
  "orig_nbformat": 4,
  "vscode": {
   "interpreter": {
    "hash": "3b2391b7a20eeb2efb723547aa7e3125625c0a2522675e923032f4b2715464b0"
   }
  }
 },
 "nbformat": 4,
 "nbformat_minor": 2
}
