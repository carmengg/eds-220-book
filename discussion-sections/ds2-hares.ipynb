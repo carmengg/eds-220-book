{
 "cells": [
  {
   "cell_type": "code",
   "execution_count": 1,
   "metadata": {},
   "outputs": [],
   "source": [
    "import pandas as pd\n",
    "import numpy as np\n",
    "\n",
    "import datetime"
   ]
  },
  {
   "cell_type": "code",
   "execution_count": 2,
   "metadata": {},
   "outputs": [
    {
     "data": {
      "text/html": [
       "<div>\n",
       "<style scoped>\n",
       "    .dataframe tbody tr th:only-of-type {\n",
       "        vertical-align: middle;\n",
       "    }\n",
       "\n",
       "    .dataframe tbody tr th {\n",
       "        vertical-align: top;\n",
       "    }\n",
       "\n",
       "    .dataframe thead th {\n",
       "        text-align: right;\n",
       "    }\n",
       "</style>\n",
       "<table border=\"1\" class=\"dataframe\">\n",
       "  <thead>\n",
       "    <tr style=\"text-align: right;\">\n",
       "      <th></th>\n",
       "      <th>date</th>\n",
       "      <th>time</th>\n",
       "      <th>grid</th>\n",
       "      <th>trap</th>\n",
       "      <th>l_ear</th>\n",
       "      <th>r_ear</th>\n",
       "      <th>sex</th>\n",
       "      <th>age</th>\n",
       "      <th>weight</th>\n",
       "      <th>hindft</th>\n",
       "      <th>notes</th>\n",
       "      <th>b_key</th>\n",
       "      <th>session_id</th>\n",
       "      <th>study</th>\n",
       "    </tr>\n",
       "  </thead>\n",
       "  <tbody>\n",
       "    <tr>\n",
       "      <th>0</th>\n",
       "      <td>11/26/1998</td>\n",
       "      <td>NaN</td>\n",
       "      <td>bonrip</td>\n",
       "      <td>1A</td>\n",
       "      <td>414D096A08</td>\n",
       "      <td>NaN</td>\n",
       "      <td>NaN</td>\n",
       "      <td>NaN</td>\n",
       "      <td>1370.0</td>\n",
       "      <td>160.0</td>\n",
       "      <td>NaN</td>\n",
       "      <td>917.0</td>\n",
       "      <td>51</td>\n",
       "      <td>Population</td>\n",
       "    </tr>\n",
       "    <tr>\n",
       "      <th>1</th>\n",
       "      <td>11/26/1998</td>\n",
       "      <td>NaN</td>\n",
       "      <td>bonrip</td>\n",
       "      <td>2C</td>\n",
       "      <td>414D320671</td>\n",
       "      <td>NaN</td>\n",
       "      <td>M</td>\n",
       "      <td>NaN</td>\n",
       "      <td>1430.0</td>\n",
       "      <td>NaN</td>\n",
       "      <td>NaN</td>\n",
       "      <td>936.0</td>\n",
       "      <td>51</td>\n",
       "      <td>Population</td>\n",
       "    </tr>\n",
       "    <tr>\n",
       "      <th>2</th>\n",
       "      <td>11/26/1998</td>\n",
       "      <td>NaN</td>\n",
       "      <td>bonrip</td>\n",
       "      <td>2D</td>\n",
       "      <td>414D103E3A</td>\n",
       "      <td>NaN</td>\n",
       "      <td>M</td>\n",
       "      <td>NaN</td>\n",
       "      <td>1430.0</td>\n",
       "      <td>NaN</td>\n",
       "      <td>NaN</td>\n",
       "      <td>921.0</td>\n",
       "      <td>51</td>\n",
       "      <td>Population</td>\n",
       "    </tr>\n",
       "    <tr>\n",
       "      <th>3</th>\n",
       "      <td>11/26/1998</td>\n",
       "      <td>NaN</td>\n",
       "      <td>bonrip</td>\n",
       "      <td>2E</td>\n",
       "      <td>414D262D43</td>\n",
       "      <td>NaN</td>\n",
       "      <td>NaN</td>\n",
       "      <td>NaN</td>\n",
       "      <td>1490.0</td>\n",
       "      <td>135.0</td>\n",
       "      <td>NaN</td>\n",
       "      <td>931.0</td>\n",
       "      <td>51</td>\n",
       "      <td>Population</td>\n",
       "    </tr>\n",
       "    <tr>\n",
       "      <th>4</th>\n",
       "      <td>11/26/1998</td>\n",
       "      <td>NaN</td>\n",
       "      <td>bonrip</td>\n",
       "      <td>3B</td>\n",
       "      <td>414D2B4B58</td>\n",
       "      <td>NaN</td>\n",
       "      <td>NaN</td>\n",
       "      <td>NaN</td>\n",
       "      <td>1710.0</td>\n",
       "      <td>150.0</td>\n",
       "      <td>NaN</td>\n",
       "      <td>933.0</td>\n",
       "      <td>51</td>\n",
       "      <td>Population</td>\n",
       "    </tr>\n",
       "    <tr>\n",
       "      <th>...</th>\n",
       "      <td>...</td>\n",
       "      <td>...</td>\n",
       "      <td>...</td>\n",
       "      <td>...</td>\n",
       "      <td>...</td>\n",
       "      <td>...</td>\n",
       "      <td>...</td>\n",
       "      <td>...</td>\n",
       "      <td>...</td>\n",
       "      <td>...</td>\n",
       "      <td>...</td>\n",
       "      <td>...</td>\n",
       "      <td>...</td>\n",
       "      <td>...</td>\n",
       "    </tr>\n",
       "    <tr>\n",
       "      <th>3375</th>\n",
       "      <td>8/8/2002</td>\n",
       "      <td>18:00:00</td>\n",
       "      <td>bonrip</td>\n",
       "      <td>1b</td>\n",
       "      <td>1201</td>\n",
       "      <td>1202</td>\n",
       "      <td>NaN</td>\n",
       "      <td>NaN</td>\n",
       "      <td>1400.0</td>\n",
       "      <td>NaN</td>\n",
       "      <td>NaN</td>\n",
       "      <td>63.0</td>\n",
       "      <td>64</td>\n",
       "      <td>Population</td>\n",
       "    </tr>\n",
       "    <tr>\n",
       "      <th>3376</th>\n",
       "      <td>8/8/2002</td>\n",
       "      <td>6:00:00</td>\n",
       "      <td>bonrip</td>\n",
       "      <td>4b</td>\n",
       "      <td>1201</td>\n",
       "      <td>1202</td>\n",
       "      <td>NaN</td>\n",
       "      <td>NaN</td>\n",
       "      <td>NaN</td>\n",
       "      <td>NaN</td>\n",
       "      <td>NaN</td>\n",
       "      <td>63.0</td>\n",
       "      <td>64</td>\n",
       "      <td>Population</td>\n",
       "    </tr>\n",
       "    <tr>\n",
       "      <th>3377</th>\n",
       "      <td>8/7/2002</td>\n",
       "      <td>NaN</td>\n",
       "      <td>bonrip</td>\n",
       "      <td>4b</td>\n",
       "      <td>1217</td>\n",
       "      <td>1218</td>\n",
       "      <td>NaN</td>\n",
       "      <td>NaN</td>\n",
       "      <td>1000.0</td>\n",
       "      <td>134.0</td>\n",
       "      <td>NaN</td>\n",
       "      <td>69.0</td>\n",
       "      <td>64</td>\n",
       "      <td>Population</td>\n",
       "    </tr>\n",
       "    <tr>\n",
       "      <th>3378</th>\n",
       "      <td>8/8/2002</td>\n",
       "      <td>NaN</td>\n",
       "      <td>bonrip</td>\n",
       "      <td>6d</td>\n",
       "      <td>1217</td>\n",
       "      <td>1218</td>\n",
       "      <td>NaN</td>\n",
       "      <td>NaN</td>\n",
       "      <td>990.0</td>\n",
       "      <td>NaN</td>\n",
       "      <td>NaN</td>\n",
       "      <td>69.0</td>\n",
       "      <td>64</td>\n",
       "      <td>Population</td>\n",
       "    </tr>\n",
       "    <tr>\n",
       "      <th>3379</th>\n",
       "      <td>8/6/2002</td>\n",
       "      <td>NaN</td>\n",
       "      <td>bonrip</td>\n",
       "      <td>4b</td>\n",
       "      <td>1058</td>\n",
       "      <td>1060</td>\n",
       "      <td>M</td>\n",
       "      <td>NaN</td>\n",
       "      <td>1460.0</td>\n",
       "      <td>119.0</td>\n",
       "      <td>NaN</td>\n",
       "      <td>32.0</td>\n",
       "      <td>64</td>\n",
       "      <td>Population</td>\n",
       "    </tr>\n",
       "  </tbody>\n",
       "</table>\n",
       "<p>3380 rows × 14 columns</p>\n",
       "</div>"
      ],
      "text/plain": [
       "            date      time    grid trap       l_ear r_ear  sex  age  weight  \\\n",
       "0     11/26/1998       NaN  bonrip   1A  414D096A08   NaN  NaN  NaN  1370.0   \n",
       "1     11/26/1998       NaN  bonrip   2C  414D320671   NaN    M  NaN  1430.0   \n",
       "2     11/26/1998       NaN  bonrip   2D  414D103E3A   NaN    M  NaN  1430.0   \n",
       "3     11/26/1998       NaN  bonrip   2E  414D262D43   NaN  NaN  NaN  1490.0   \n",
       "4     11/26/1998       NaN  bonrip   3B  414D2B4B58   NaN  NaN  NaN  1710.0   \n",
       "...          ...       ...     ...  ...         ...   ...  ...  ...     ...   \n",
       "3375    8/8/2002  18:00:00  bonrip  1b         1201  1202  NaN  NaN  1400.0   \n",
       "3376    8/8/2002   6:00:00  bonrip  4b         1201  1202  NaN  NaN     NaN   \n",
       "3377    8/7/2002       NaN  bonrip   4b        1217  1218  NaN  NaN  1000.0   \n",
       "3378    8/8/2002       NaN  bonrip   6d        1217  1218  NaN  NaN   990.0   \n",
       "3379    8/6/2002       NaN  bonrip   4b        1058  1060    M  NaN  1460.0   \n",
       "\n",
       "      hindft notes  b_key  session_id       study  \n",
       "0      160.0   NaN  917.0          51  Population  \n",
       "1        NaN   NaN  936.0          51  Population  \n",
       "2        NaN   NaN  921.0          51  Population  \n",
       "3      135.0   NaN  931.0          51  Population  \n",
       "4      150.0   NaN  933.0          51  Population  \n",
       "...      ...   ...    ...         ...         ...  \n",
       "3375     NaN   NaN   63.0          64  Population  \n",
       "3376     NaN   NaN   63.0          64  Population  \n",
       "3377   134.0   NaN   69.0          64  Population  \n",
       "3378     NaN   NaN   69.0          64  Population  \n",
       "3379   119.0   NaN   32.0          64  Population  \n",
       "\n",
       "[3380 rows x 14 columns]"
      ]
     },
     "execution_count": 2,
     "metadata": {},
     "output_type": "execute_result"
    }
   ],
   "source": [
    "hares = pd.read_csv('https://portal.edirepository.org/nis/dataviewer?packageid=knb-lter-bnz.55.22&entityid=f01f5d71be949b8c700b6ecd1c42c701')\n",
    "hares"
   ]
  },
  {
   "cell_type": "code",
   "execution_count": 20,
   "metadata": {},
   "outputs": [
    {
     "data": {
      "text/plain": [
       "array(['bonrip', 'bonbs', 'Bonbs', 'bonmat', 'bonmat '], dtype=object)"
      ]
     },
     "execution_count": 20,
     "metadata": {},
     "output_type": "execute_result"
    }
   ],
   "source": [
    "hares.grid.unique()\n",
    "#hares.trap.unique()"
   ]
  },
  {
   "cell_type": "code",
   "execution_count": 22,
   "metadata": {},
   "outputs": [
    {
     "data": {
      "text/plain": [
       "bonrip     2030\n",
       "bonbs       929\n",
       "bonmat      260\n",
       "Bonbs       152\n",
       "bonmat        9\n",
       "Name: grid, dtype: int64"
      ]
     },
     "execution_count": 22,
     "metadata": {},
     "output_type": "execute_result"
    }
   ],
   "source": [
    "hares.grid.value_counts(dropna=False)"
   ]
  },
  {
   "cell_type": "code",
   "execution_count": 24,
   "metadata": {},
   "outputs": [
    {
     "data": {
      "text/plain": [
       "Bonanza Riparian    2030\n",
       "Bonanza Mature      1350\n",
       "Name: grid_clean, dtype: int64"
      ]
     },
     "execution_count": 24,
     "metadata": {},
     "output_type": "execute_result"
    }
   ],
   "source": [
    "conditions = [hares.grid == 'bonrip',\n",
    "              (hares.grid == 'bonmat') | (hares.grid == 'bonmat ') | (hares.grid == 'bonbs') | (hares.grid == 'Bonbs')]\n",
    "\n",
    "choices = ['Bonanza Riparian', 'Bonanza Mature']\n",
    "hares['grid_clean'] = np.select(conditions,choices,default=np.nan)\n",
    "hares.grid_clean.value_counts()"
   ]
  },
  {
   "cell_type": "code",
   "execution_count": 3,
   "metadata": {},
   "outputs": [
    {
     "data": {
      "text/plain": [
       "F      1161\n",
       "M       730\n",
       "f       556\n",
       "m       515\n",
       "NaN     352\n",
       "?        40\n",
       "F?       10\n",
       "f         4\n",
       "m         4\n",
       "f?        3\n",
       "M?        2\n",
       "m?        2\n",
       "pf        1\n",
       "Name: sex, dtype: int64"
      ]
     },
     "execution_count": 3,
     "metadata": {},
     "output_type": "execute_result"
    }
   ],
   "source": [
    "hares.sex.value_counts(dropna=False)"
   ]
  },
  {
   "cell_type": "code",
   "execution_count": 4,
   "metadata": {},
   "outputs": [
    {
     "data": {
      "text/plain": [
       "array([nan, 'M', 'F', '?', 'F?', 'M?', 'pf', 'm', 'f', 'f?', 'm?', 'f ',\n",
       "       'm '], dtype=object)"
      ]
     },
     "execution_count": 4,
     "metadata": {},
     "output_type": "execute_result"
    }
   ],
   "source": [
    "hares.sex.unique()"
   ]
  },
  {
   "cell_type": "code",
   "execution_count": 25,
   "metadata": {},
   "outputs": [
    {
     "data": {
      "text/plain": [
       "female    1721\n",
       "male      1249\n",
       "nan        410\n",
       "Name: sex_simple, dtype: int64"
      ]
     },
     "execution_count": 25,
     "metadata": {},
     "output_type": "execute_result"
    }
   ],
   "source": [
    "conditions = [(hares.sex == 'F') | (hares.sex == 'f') | (hares.sex == 'f '),\n",
    "              (hares.sex == 'M') | (hares.sex == 'm') | (hares.sex == 'm ')]\n",
    "\n",
    "choices = ['female', 'male']\n",
    "\n",
    "hares['sex_simple'] = np.select(conditions, choices, default=np.nan)\n",
    "\n",
    "hares.sex_simple.value_counts(dropna=False)"
   ]
  },
  {
   "cell_type": "code",
   "execution_count": 42,
   "metadata": {},
   "outputs": [
    {
     "data": {
      "text/plain": [
       "date           object\n",
       "time           object\n",
       "grid           object\n",
       "trap           object\n",
       "l_ear          object\n",
       "r_ear          object\n",
       "sex            object\n",
       "age            object\n",
       "weight        float64\n",
       "hindft        float64\n",
       "notes          object\n",
       "b_key         float64\n",
       "session_id      int64\n",
       "study          object\n",
       "dtype: object"
      ]
     },
     "execution_count": 42,
     "metadata": {},
     "output_type": "execute_result"
    }
   ],
   "source": [
    "hares.dtypes"
   ]
  },
  {
   "cell_type": "code",
   "execution_count": 43,
   "metadata": {},
   "outputs": [
    {
     "data": {
      "text/plain": [
       "str"
      ]
     },
     "execution_count": 43,
     "metadata": {},
     "output_type": "execute_result"
    }
   ],
   "source": [
    "type(hares.iat[0,0])"
   ]
  },
  {
   "cell_type": "code",
   "execution_count": 6,
   "metadata": {},
   "outputs": [
    {
     "data": {
      "text/plain": [
       "date              datetime64[ns]\n",
       "time                      object\n",
       "grid                      object\n",
       "trap                      object\n",
       "l_ear                     object\n",
       "r_ear                     object\n",
       "sex                       object\n",
       "age                       object\n",
       "weight                   float64\n",
       "hindft                   float64\n",
       "notes                     object\n",
       "b_key                    float64\n",
       "session_id                 int64\n",
       "study                     object\n",
       "sex_simplified            object\n",
       "dtype: object"
      ]
     },
     "execution_count": 6,
     "metadata": {},
     "output_type": "execute_result"
    }
   ],
   "source": [
    "hares.date = pd.to_datetime(hares.date)\n",
    "hares.dtypes"
   ]
  },
  {
   "cell_type": "code",
   "execution_count": 11,
   "metadata": {},
   "outputs": [],
   "source": [
    "hares = hares.assign(year = hares.date.dt.year,\n",
    "                     month = hares.date.dt.month)"
   ]
  },
  {
   "cell_type": "code",
   "execution_count": 12,
   "metadata": {},
   "outputs": [
    {
     "data": {
      "text/plain": [
       "Index(['date', 'time', 'grid', 'trap', 'l_ear', 'r_ear', 'sex', 'age',\n",
       "       'weight', 'hindft', 'notes', 'b_key', 'session_id', 'study',\n",
       "       'sex_simplified', 'year', 'month'],\n",
       "      dtype='object')"
      ]
     },
     "execution_count": 12,
     "metadata": {},
     "output_type": "execute_result"
    }
   ],
   "source": [
    "hares.columns"
   ]
  },
  {
   "cell_type": "code",
   "execution_count": 15,
   "metadata": {},
   "outputs": [
    {
     "data": {
      "text/plain": [
       "array([1998, 1999, 2000, 2001, 2002, 2003, 2004, 2005, 2006, 2007, 2008,\n",
       "       2009, 2010, 2011, 2012])"
      ]
     },
     "execution_count": 15,
     "metadata": {},
     "output_type": "execute_result"
    }
   ],
   "source": [
    "hares.year.unique()"
   ]
  },
  {
   "cell_type": "code",
   "execution_count": 19,
   "metadata": {},
   "outputs": [
    {
     "data": {
      "text/plain": [
       "<AxesSubplot:xlabel='year'>"
      ]
     },
     "execution_count": 19,
     "metadata": {},
     "output_type": "execute_result"
    },
    {
     "data": {
      "image/png": "[encoded data removed]",
      "text/plain": [
       "<Figure size 432x288 with 1 Axes>"
      ]
     },
     "metadata": {
      "needs_background": "light"
     },
     "output_type": "display_data"
    }
   ],
   "source": [
    "hares.groupby('year').count().date.plot()"
   ]
  },
  {
   "cell_type": "code",
   "execution_count": null,
   "metadata": {},
   "outputs": [],
   "source": []
  }
 ],
 "metadata": {
  "kernelspec": {
   "display_name": "Python 3.9.7 ('gee_env')",
   "language": "python",
   "name": "python3"
  },
  "language_info": {
   "codemirror_mode": {
    "name": "ipython",
    "version": 3
   },
   "file_extension": ".py",
   "mimetype": "text/x-python",
   "name": "python",
   "nbconvert_exporter": "python",
   "pygments_lexer": "ipython3",
   "version": "3.9.7"
  },
  "orig_nbformat": 4,
  "vscode": {
   "interpreter": {
    "hash": "096ff075efa46b48fdc6093cb088d328f1206dfedfbeb0f42cf6b14174f51118"
   }
  }
 },
 "nbformat": 4,
 "nbformat_minor": 2
}
