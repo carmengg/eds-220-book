{
 "cells": [
  {
   "cell_type": "code",
   "execution_count": 1,
   "metadata": {},
   "outputs": [],
   "source": [
    "import geopandas as gpd\n",
    "import pandas as pd\n",
    "import matplotlib.pyplot as plt\n",
    "\n",
    "# https://pyproj4.github.io/pyproj/dev/api/crs/crs.html\n",
    "from pyproj.crs import CRS"
   ]
  },
  {
   "cell_type": "code",
   "execution_count": 51,
   "metadata": {},
   "outputs": [],
   "source": [
    "pd.set_option(\"display.max.columns\", None)"
   ]
  },
  {
   "cell_type": "code",
   "execution_count": 2,
   "metadata": {},
   "outputs": [],
   "source": [
    "states = gpd.read_file('tl_2022_us_state/tl_2022_us_state.shp')\n",
    "power_plants = pd.read_csv('Power_Plants.csv')"
   ]
  },
  {
   "cell_type": "code",
   "execution_count": 3,
   "metadata": {},
   "outputs": [],
   "source": [
    "states.columns = states.columns.str.lower()\n",
    "power_plants.columns = power_plants.columns.str.lower()"
   ]
  },
  {
   "cell_type": "code",
   "execution_count": 4,
   "metadata": {},
   "outputs": [],
   "source": [
    "power_plants = gpd.GeoDataFrame(power_plants,\n",
    "                    geometry=gpd.points_from_xy(power_plants.longitude, \n",
    "                                             power_plants.latitude),\n",
    "                    crs='EPSG:4326'\n",
    "                    )"
   ]
  },
  {
   "cell_type": "code",
   "execution_count": 5,
   "metadata": {},
   "outputs": [
    {
     "data": {
      "text/plain": [
       "<AxesSubplot:>"
      ]
     },
     "execution_count": 5,
     "metadata": {},
     "output_type": "execute_result"
    },
    {
     "data": {
      "image/png": "[encoded data removed]",
      "text/plain": [
       "<Figure size 432x288 with 1 Axes>"
      ]
     },
     "metadata": {
      "needs_background": "light"
     },
     "output_type": "display_data"
    }
   ],
   "source": [
    "fig, ax = plt.subplots()\n",
    "states.plot(ax=ax)\n",
    "power_plants.plot(ax=ax, color='red', alpha=0.2)"
   ]
  },
  {
   "cell_type": "code",
   "execution_count": 6,
   "metadata": {},
   "outputs": [
    {
     "data": {
      "text/plain": [
       "region        object\n",
       "division      object\n",
       "statefp       object\n",
       "statens       object\n",
       "geoid         object\n",
       "stusps        object\n",
       "name          object\n",
       "lsad          object\n",
       "mtfcc         object\n",
       "funcstat      object\n",
       "aland          int64\n",
       "awater         int64\n",
       "intptlat      object\n",
       "intptlon      object\n",
       "geometry    geometry\n",
       "dtype: object"
      ]
     },
     "execution_count": 6,
     "metadata": {},
     "output_type": "execute_result"
    }
   ],
   "source": [
    "states.dtypes"
   ]
  },
  {
   "cell_type": "code",
   "execution_count": 7,
   "metadata": {},
   "outputs": [
    {
     "data": {
      "text/plain": [
       "region         int64\n",
       "division       int64\n",
       "statefp        int64\n",
       "statens       object\n",
       "geoid         object\n",
       "stusps        object\n",
       "name          object\n",
       "lsad          object\n",
       "mtfcc         object\n",
       "funcstat      object\n",
       "aland          int64\n",
       "awater         int64\n",
       "intptlat      object\n",
       "intptlon      object\n",
       "geometry    geometry\n",
       "dtype: object"
      ]
     },
     "execution_count": 7,
     "metadata": {},
     "output_type": "execute_result"
    }
   ],
   "source": [
    "states.region = states.region.astype('int')\n",
    "states.division = states.division.astype('int')\n",
    "states.statefp = states.statefp.astype('int')\n",
    "states.dtypes"
   ]
  },
  {
   "cell_type": "code",
   "execution_count": 8,
   "metadata": {},
   "outputs": [
    {
     "data": {
      "text/html": [
       "<div>\n",
       "<style scoped>\n",
       "    .dataframe tbody tr th:only-of-type {\n",
       "        vertical-align: middle;\n",
       "    }\n",
       "\n",
       "    .dataframe tbody tr th {\n",
       "        vertical-align: top;\n",
       "    }\n",
       "\n",
       "    .dataframe thead th {\n",
       "        text-align: right;\n",
       "    }\n",
       "</style>\n",
       "<table border=\"1\" class=\"dataframe\">\n",
       "  <thead>\n",
       "    <tr style=\"text-align: right;\">\n",
       "      <th></th>\n",
       "      <th>region</th>\n",
       "      <th>division</th>\n",
       "      <th>statefp</th>\n",
       "      <th>statens</th>\n",
       "      <th>geoid</th>\n",
       "      <th>stusps</th>\n",
       "      <th>name</th>\n",
       "      <th>lsad</th>\n",
       "      <th>mtfcc</th>\n",
       "      <th>funcstat</th>\n",
       "      <th>aland</th>\n",
       "      <th>awater</th>\n",
       "      <th>intptlat</th>\n",
       "      <th>intptlon</th>\n",
       "      <th>geometry</th>\n",
       "    </tr>\n",
       "  </thead>\n",
       "  <tbody>\n",
       "    <tr>\n",
       "      <th>34</th>\n",
       "      <td>9</td>\n",
       "      <td>0</td>\n",
       "      <td>78</td>\n",
       "      <td>01802710</td>\n",
       "      <td>78</td>\n",
       "      <td>VI</td>\n",
       "      <td>United States Virgin Islands</td>\n",
       "      <td>00</td>\n",
       "      <td>G4000</td>\n",
       "      <td>A</td>\n",
       "      <td>348021909</td>\n",
       "      <td>1550236187</td>\n",
       "      <td>+18.3392359</td>\n",
       "      <td>-064.9500433</td>\n",
       "      <td>MULTIPOLYGON (((-64.76834 18.26033, -64.77074 ...</td>\n",
       "    </tr>\n",
       "    <tr>\n",
       "      <th>35</th>\n",
       "      <td>9</td>\n",
       "      <td>0</td>\n",
       "      <td>69</td>\n",
       "      <td>01779809</td>\n",
       "      <td>69</td>\n",
       "      <td>MP</td>\n",
       "      <td>Commonwealth of the Northern Mariana Islands</td>\n",
       "      <td>00</td>\n",
       "      <td>G4000</td>\n",
       "      <td>A</td>\n",
       "      <td>472292521</td>\n",
       "      <td>4644252458</td>\n",
       "      <td>+15.0010865</td>\n",
       "      <td>+145.6181702</td>\n",
       "      <td>MULTIPOLYGON (((145.05897 14.12500, 145.06302 ...</td>\n",
       "    </tr>\n",
       "    <tr>\n",
       "      <th>36</th>\n",
       "      <td>9</td>\n",
       "      <td>0</td>\n",
       "      <td>66</td>\n",
       "      <td>01802705</td>\n",
       "      <td>66</td>\n",
       "      <td>GU</td>\n",
       "      <td>Guam</td>\n",
       "      <td>00</td>\n",
       "      <td>G4000</td>\n",
       "      <td>A</td>\n",
       "      <td>543555849</td>\n",
       "      <td>934337453</td>\n",
       "      <td>+13.4417451</td>\n",
       "      <td>+144.7719021</td>\n",
       "      <td>POLYGON ((144.56343 13.44806, 144.56357 13.450...</td>\n",
       "    </tr>\n",
       "    <tr>\n",
       "      <th>41</th>\n",
       "      <td>9</td>\n",
       "      <td>0</td>\n",
       "      <td>60</td>\n",
       "      <td>01802701</td>\n",
       "      <td>60</td>\n",
       "      <td>AS</td>\n",
       "      <td>American Samoa</td>\n",
       "      <td>00</td>\n",
       "      <td>G4000</td>\n",
       "      <td>A</td>\n",
       "      <td>197759069</td>\n",
       "      <td>1307243751</td>\n",
       "      <td>-14.2671590</td>\n",
       "      <td>-170.6682674</td>\n",
       "      <td>MULTIPOLYGON (((-170.53809 -14.33613, -170.548...</td>\n",
       "    </tr>\n",
       "    <tr>\n",
       "      <th>49</th>\n",
       "      <td>9</td>\n",
       "      <td>0</td>\n",
       "      <td>72</td>\n",
       "      <td>01779808</td>\n",
       "      <td>72</td>\n",
       "      <td>PR</td>\n",
       "      <td>Puerto Rico</td>\n",
       "      <td>00</td>\n",
       "      <td>G4000</td>\n",
       "      <td>A</td>\n",
       "      <td>8869029522</td>\n",
       "      <td>4922249087</td>\n",
       "      <td>+18.2176480</td>\n",
       "      <td>-066.4107992</td>\n",
       "      <td>MULTIPOLYGON (((-66.32322 17.87767, -66.33170 ...</td>\n",
       "    </tr>\n",
       "  </tbody>\n",
       "</table>\n",
       "</div>"
      ],
      "text/plain": [
       "    region  division  statefp   statens geoid stusps  \\\n",
       "34       9         0       78  01802710    78     VI   \n",
       "35       9         0       69  01779809    69     MP   \n",
       "36       9         0       66  01802705    66     GU   \n",
       "41       9         0       60  01802701    60     AS   \n",
       "49       9         0       72  01779808    72     PR   \n",
       "\n",
       "                                            name lsad  mtfcc funcstat  \\\n",
       "34                  United States Virgin Islands   00  G4000        A   \n",
       "35  Commonwealth of the Northern Mariana Islands   00  G4000        A   \n",
       "36                                          Guam   00  G4000        A   \n",
       "41                                American Samoa   00  G4000        A   \n",
       "49                                   Puerto Rico   00  G4000        A   \n",
       "\n",
       "         aland      awater     intptlat      intptlon  \\\n",
       "34   348021909  1550236187  +18.3392359  -064.9500433   \n",
       "35   472292521  4644252458  +15.0010865  +145.6181702   \n",
       "36   543555849   934337453  +13.4417451  +144.7719021   \n",
       "41   197759069  1307243751  -14.2671590  -170.6682674   \n",
       "49  8869029522  4922249087  +18.2176480  -066.4107992   \n",
       "\n",
       "                                             geometry  \n",
       "34  MULTIPOLYGON (((-64.76834 18.26033, -64.77074 ...  \n",
       "35  MULTIPOLYGON (((145.05897 14.12500, 145.06302 ...  \n",
       "36  POLYGON ((144.56343 13.44806, 144.56357 13.450...  \n",
       "41  MULTIPOLYGON (((-170.53809 -14.33613, -170.548...  \n",
       "49  MULTIPOLYGON (((-66.32322 17.87767, -66.33170 ...  "
      ]
     },
     "execution_count": 8,
     "metadata": {},
     "output_type": "execute_result"
    }
   ],
   "source": [
    "states[states.region==9]"
   ]
  },
  {
   "cell_type": "code",
   "execution_count": 9,
   "metadata": {},
   "outputs": [
    {
     "data": {
      "text/plain": [
       "<AxesSubplot:>"
      ]
     },
     "execution_count": 9,
     "metadata": {},
     "output_type": "execute_result"
    },
    {
     "data": {
      "image/png": "[encoded data removed]",
      "text/plain": [
       "<Figure size 432x288 with 1 Axes>"
      ]
     },
     "metadata": {
      "needs_background": "light"
     },
     "output_type": "display_data"
    }
   ],
   "source": [
    "are_states = states[states.region.isin(range(1,5))]\n",
    "are_states.region.unique()\n",
    "are_states.plot()"
   ]
  },
  {
   "cell_type": "code",
   "execution_count": 10,
   "metadata": {},
   "outputs": [
    {
     "data": {
      "text/plain": [
       "<AxesSubplot:>"
      ]
     },
     "execution_count": 10,
     "metadata": {},
     "output_type": "execute_result"
    },
    {
     "data": {
      "image/png": "[encoded data removed]",
      "text/plain": [
       "<Figure size 432x288 with 1 Axes>"
      ]
     },
     "metadata": {
      "needs_background": "light"
     },
     "output_type": "display_data"
    }
   ],
   "source": [
    "states.plot()"
   ]
  },
  {
   "cell_type": "code",
   "execution_count": 13,
   "metadata": {},
   "outputs": [
    {
     "data": {
      "text/plain": [
       "<AxesSubplot:>"
      ]
     },
     "execution_count": 13,
     "metadata": {},
     "output_type": "execute_result"
    },
    {
     "data": {
      "image/png": "[encoded data removed]",
      "text/plain": [
       "<Figure size 432x288 with 1 Axes>"
      ]
     },
     "metadata": {
      "needs_background": "light"
     },
     "output_type": "display_data"
    }
   ],
   "source": [
    "states[(states.statefp!=2) & (states.region!=9)].plot()"
   ]
  },
  {
   "cell_type": "code",
   "execution_count": 14,
   "metadata": {},
   "outputs": [
    {
     "data": {
      "text/plain": [
       "False"
      ]
     },
     "execution_count": 14,
     "metadata": {},
     "output_type": "execute_result"
    }
   ],
   "source": [
    "states.crs == power_plants.crs"
   ]
  },
  {
   "cell_type": "code",
   "execution_count": 40,
   "metadata": {},
   "outputs": [],
   "source": [
    "states = states[states.region!=9]"
   ]
  },
  {
   "cell_type": "code",
   "execution_count": 41,
   "metadata": {},
   "outputs": [
    {
     "name": "stdout",
     "output_type": "stream",
     "text": [
      "True\n"
     ]
    }
   ],
   "source": [
    "states = states.to_crs(power_plants.crs)\n",
    "\n",
    "print(states.crs == power_plants.crs)"
   ]
  },
  {
   "cell_type": "code",
   "execution_count": 42,
   "metadata": {},
   "outputs": [
    {
     "data": {
      "image/png": "[encoded data removed]",
      "text/plain": [
       "<Figure size 432x288 with 1 Axes>"
      ]
     },
     "metadata": {
      "needs_background": "light"
     },
     "output_type": "display_data"
    }
   ],
   "source": [
    "fig, ax = plt.subplots()\n",
    "states.plot(ax=ax)\n",
    "power_plants.plot(ax=ax, color='red', alpha=0.2)\n",
    "plt.show()"
   ]
  },
  {
   "cell_type": "code",
   "execution_count": 43,
   "metadata": {},
   "outputs": [
    {
     "data": {
      "text/html": [
       "<div>\n",
       "<style scoped>\n",
       "    .dataframe tbody tr th:only-of-type {\n",
       "        vertical-align: middle;\n",
       "    }\n",
       "\n",
       "    .dataframe tbody tr th {\n",
       "        vertical-align: top;\n",
       "    }\n",
       "\n",
       "    .dataframe thead th {\n",
       "        text-align: right;\n",
       "    }\n",
       "</style>\n",
       "<table border=\"1\" class=\"dataframe\">\n",
       "  <thead>\n",
       "    <tr style=\"text-align: right;\">\n",
       "      <th></th>\n",
       "      <th>geometry</th>\n",
       "    </tr>\n",
       "  </thead>\n",
       "  <tbody>\n",
       "    <tr>\n",
       "      <th>0</th>\n",
       "      <td>POLYGON ((-180.98811 71.35454, -180.98811 15.2...</td>\n",
       "    </tr>\n",
       "  </tbody>\n",
       "</table>\n",
       "</div>"
      ],
      "text/plain": [
       "                                            geometry\n",
       "0  POLYGON ((-180.98811 71.35454, -180.98811 15.2..."
      ]
     },
     "execution_count": 43,
     "metadata": {},
     "output_type": "execute_result"
    }
   ],
   "source": [
    "bb = gpd.read_file('bounding_box.json')\n",
    "bb"
   ]
  },
  {
   "cell_type": "code",
   "execution_count": 44,
   "metadata": {},
   "outputs": [
    {
     "data": {
      "text/plain": [
       "True"
      ]
     },
     "execution_count": 44,
     "metadata": {},
     "output_type": "execute_result"
    }
   ],
   "source": [
    "bb.crs == states.crs"
   ]
  },
  {
   "cell_type": "code",
   "execution_count": 45,
   "metadata": {},
   "outputs": [
    {
     "data": {
      "image/png": "[encoded data removed]",
      "text/plain": [
       "<Figure size 432x288 with 1 Axes>"
      ]
     },
     "metadata": {
      "needs_background": "light"
     },
     "output_type": "display_data"
    }
   ],
   "source": [
    "fig, ax = plt.subplots()\n",
    "states.plot(ax=ax)\n",
    "bb.plot(ax=ax, color='none', edgecolor='red')\n",
    "plt.show()\n"
   ]
  },
  {
   "cell_type": "code",
   "execution_count": 48,
   "metadata": {},
   "outputs": [
    {
     "data": {
      "text/plain": [
       "<AxesSubplot:>"
      ]
     },
     "execution_count": 48,
     "metadata": {},
     "output_type": "execute_result"
    },
    {
     "data": {
      "image/png": "[encoded data removed]",
      "text/plain": [
       "<Figure size 432x288 with 1 Axes>"
      ]
     },
     "metadata": {
      "needs_background": "light"
     },
     "output_type": "display_data"
    }
   ],
   "source": [
    "bb_states = states.clip(bb)\n",
    "bb_states.plot()"
   ]
  },
  {
   "cell_type": "code",
   "execution_count": 49,
   "metadata": {},
   "outputs": [
    {
     "data": {
      "text/plain": [
       "<AxesSubplot:>"
      ]
     },
     "execution_count": 49,
     "metadata": {},
     "output_type": "execute_result"
    },
    {
     "data": {
      "image/png": "[encoded data removed]",
      "text/plain": [
       "<Figure size 432x288 with 1 Axes>"
      ]
     },
     "metadata": {
      "needs_background": "light"
     },
     "output_type": "display_data"
    }
   ],
   "source": [
    "fig, ax = plt.subplots()\n",
    "bb_states.plot(ax=ax)\n",
    "power_plants.plot(ax=ax, color='red', alpha=0.2)"
   ]
  },
  {
   "cell_type": "code",
   "execution_count": 53,
   "metadata": {},
   "outputs": [
    {
     "data": {
      "text/plain": [
       "array(['Alaska', 'Alabama', 'Texas', 'Minnesota', 'California',\n",
       "       'Kentucky', 'Nebraska', 'New York', 'Washington', 'Arizona',\n",
       "       'Kansas', 'South Carolina', 'Florida', 'Nevada', 'Utah',\n",
       "       'Oklahoma', 'Arkansas', 'Illinois', 'Colorado', 'Wyoming',\n",
       "       'Connecticut', 'Massachusetts', 'New Mexico', 'Vermont',\n",
       "       'Delaware', 'Maryland', 'Georgia', 'Missouri', 'Hawaii', 'Idaho',\n",
       "       'Maine', 'Indiana', 'North Carolina', 'Iowa', 'Louisiana',\n",
       "       'Michigan', 'Wisconsin', 'Mississippi', 'Montana', 'New Hampshire',\n",
       "       'New Jersey', 'North Dakota', 'Ohio', 'Oregon', 'Pennsylvania',\n",
       "       'Rhode Island', 'South Dakota', 'Tennessee', 'Virginia',\n",
       "       'West Virginia', 'District of Columbia', 'Puerto Rico'],\n",
       "      dtype=object)"
      ]
     },
     "execution_count": 53,
     "metadata": {},
     "output_type": "execute_result"
    }
   ],
   "source": [
    "power_plants.state.unique()"
   ]
  },
  {
   "cell_type": "code",
   "execution_count": null,
   "metadata": {},
   "outputs": [],
   "source": []
  }
 ],
 "metadata": {
  "kernelspec": {
   "display_name": "Python 3.9.7 ('gee_env')",
   "language": "python",
   "name": "python3"
  },
  "language_info": {
   "codemirror_mode": {
    "name": "ipython",
    "version": 3
   },
   "file_extension": ".py",
   "mimetype": "text/x-python",
   "name": "python",
   "nbconvert_exporter": "python",
   "pygments_lexer": "ipython3",
   "version": "3.9.7"
  },
  "orig_nbformat": 4,
  "vscode": {
   "interpreter": {
    "hash": "3b2391b7a20eeb2efb723547aa7e3125625c0a2522675e923032f4b2715464b0"
   }
  }
 },
 "nbformat": 4,
 "nbformat_minor": 2
}
