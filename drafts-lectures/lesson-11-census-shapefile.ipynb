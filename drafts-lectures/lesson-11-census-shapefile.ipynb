{
 "cells": [
  {
   "cell_type": "code",
   "execution_count": 17,
   "metadata": {},
   "outputs": [],
   "source": [
    "import geopandas as gpd\n",
    "import pandas as pd\n",
    "import matplotlib.pyplot as plt\n",
    "\n",
    "# https://pyproj4.github.io/pyproj/dev/api/crs/crs.html\n",
    "from pyproj.crs import CRS"
   ]
  },
  {
   "cell_type": "code",
<<<<<<< HEAD
   "execution_count": 2,
=======
   "execution_count": 18,
   "metadata": {},
   "outputs": [],
   "source": [
    "import os\n",
    "home = os.path.expanduser(\"~\")\n",
    "os.chdir(os.path.join(home,'eds-220-book'))"
   ]
  },
  {
   "cell_type": "code",
   "execution_count": 19,
>>>>>>> da6874b1ca37f1425f04dce6d24ae909cdce00e8
   "metadata": {},
   "outputs": [],
   "source": [
    "pd.set_option(\"display.max.columns\", None)"
   ]
  },
  {
   "cell_type": "code",
<<<<<<< HEAD
   "execution_count": 3,
=======
   "execution_count": 20,
>>>>>>> da6874b1ca37f1425f04dce6d24ae909cdce00e8
   "metadata": {},
   "outputs": [],
   "source": [
    "states = gpd.read_file('data/tl_2022_us_state/tl_2022_us_state.shp')\n",
    "power_plants = pd.read_csv('data/Power_Plants.csv')"
   ]
  },
  {
   "cell_type": "code",
<<<<<<< HEAD
   "execution_count": 4,
=======
   "execution_count": 21,
>>>>>>> da6874b1ca37f1425f04dce6d24ae909cdce00e8
   "metadata": {},
   "outputs": [],
   "source": [
    "states.columns = states.columns.str.lower()\n",
    "power_plants.columns = power_plants.columns.str.lower()"
   ]
  },
  {
   "cell_type": "code",
<<<<<<< HEAD
   "execution_count": 5,
=======
   "execution_count": 22,
>>>>>>> da6874b1ca37f1425f04dce6d24ae909cdce00e8
   "metadata": {},
   "outputs": [],
   "source": [
    "power_plants = gpd.GeoDataFrame(power_plants,\n",
    "                    geometry=gpd.points_from_xy(power_plants.longitude, \n",
    "                                             power_plants.latitude),\n",
    "                    crs='EPSG:4326'\n",
    "                    )"
   ]
  },
  {
   "cell_type": "code",
<<<<<<< HEAD
   "execution_count": 6,
   "metadata": {},
   "outputs": [
    {
     "data": {
      "text/plain": [
       "<AxesSubplot:>"
      ]
     },
     "execution_count": 6,
     "metadata": {},
     "output_type": "execute_result"
    },
    {
     "data": {
      "image/png": "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",
      "text/plain": [
       "<Figure size 432x288 with 1 Axes>"
      ]
     },
     "metadata": {
      "needs_background": "light"
     },
     "output_type": "display_data"
    }
   ],
   "source": [
    "fig, ax = plt.subplots()\n",
    "states.plot(ax=ax)\n",
    "power_plants.plot(ax=ax, color='red', alpha=0.2)"
   ]
  },
  {
   "cell_type": "code",
   "execution_count": 7,
=======
   "execution_count": 23,
>>>>>>> da6874b1ca37f1425f04dce6d24ae909cdce00e8
   "metadata": {},
   "outputs": [
    {
     "data": {
      "text/plain": [
       "region        object\n",
       "division      object\n",
       "statefp       object\n",
       "statens       object\n",
       "geoid         object\n",
       "stusps        object\n",
       "name          object\n",
       "lsad          object\n",
       "mtfcc         object\n",
       "funcstat      object\n",
       "aland          int64\n",
       "awater         int64\n",
       "intptlat      object\n",
       "intptlon      object\n",
       "geometry    geometry\n",
       "dtype: object"
      ]
     },
<<<<<<< HEAD
     "execution_count": 7,
=======
     "execution_count": 23,
>>>>>>> da6874b1ca37f1425f04dce6d24ae909cdce00e8
     "metadata": {},
     "output_type": "execute_result"
    }
   ],
   "source": [
    "states.dtypes"
   ]
  },
  {
   "cell_type": "code",
<<<<<<< HEAD
   "execution_count": 8,
=======
   "execution_count": 24,
>>>>>>> da6874b1ca37f1425f04dce6d24ae909cdce00e8
   "metadata": {},
   "outputs": [
    {
     "data": {
      "text/plain": [
       "region         int64\n",
       "division       int64\n",
       "statefp        int64\n",
       "statens       object\n",
       "geoid         object\n",
       "stusps        object\n",
       "name          object\n",
       "lsad          object\n",
       "mtfcc         object\n",
       "funcstat      object\n",
       "aland          int64\n",
       "awater         int64\n",
       "intptlat      object\n",
       "intptlon      object\n",
       "geometry    geometry\n",
       "dtype: object"
      ]
     },
<<<<<<< HEAD
     "execution_count": 8,
=======
     "execution_count": 24,
>>>>>>> da6874b1ca37f1425f04dce6d24ae909cdce00e8
     "metadata": {},
     "output_type": "execute_result"
    }
   ],
   "source": [
    "states.region = states.region.astype('int')\n",
    "states.division = states.division.astype('int')\n",
    "states.statefp = states.statefp.astype('int')\n",
    "states.dtypes"
   ]
  },
  {
   "cell_type": "code",
<<<<<<< HEAD
   "execution_count": 9,
=======
   "execution_count": 25,
>>>>>>> da6874b1ca37f1425f04dce6d24ae909cdce00e8
   "metadata": {},
   "outputs": [
    {
     "data": {
      "text/html": [
       "<div>\n",
       "<style scoped>\n",
       "    .dataframe tbody tr th:only-of-type {\n",
       "        vertical-align: middle;\n",
       "    }\n",
       "\n",
       "    .dataframe tbody tr th {\n",
       "        vertical-align: top;\n",
       "    }\n",
       "\n",
       "    .dataframe thead th {\n",
       "        text-align: right;\n",
       "    }\n",
       "</style>\n",
       "<table border=\"1\" class=\"dataframe\">\n",
       "  <thead>\n",
       "    <tr style=\"text-align: right;\">\n",
       "      <th></th>\n",
       "      <th>region</th>\n",
       "      <th>division</th>\n",
       "      <th>statefp</th>\n",
       "      <th>statens</th>\n",
       "      <th>geoid</th>\n",
       "      <th>stusps</th>\n",
       "      <th>name</th>\n",
       "      <th>lsad</th>\n",
       "      <th>mtfcc</th>\n",
       "      <th>funcstat</th>\n",
       "      <th>aland</th>\n",
       "      <th>awater</th>\n",
       "      <th>intptlat</th>\n",
       "      <th>intptlon</th>\n",
       "      <th>geometry</th>\n",
       "    </tr>\n",
       "  </thead>\n",
       "  <tbody>\n",
       "    <tr>\n",
       "      <th>34</th>\n",
       "      <td>9</td>\n",
       "      <td>0</td>\n",
       "      <td>78</td>\n",
       "      <td>01802710</td>\n",
       "      <td>78</td>\n",
       "      <td>VI</td>\n",
       "      <td>United States Virgin Islands</td>\n",
       "      <td>00</td>\n",
       "      <td>G4000</td>\n",
       "      <td>A</td>\n",
       "      <td>348021909</td>\n",
       "      <td>1550236187</td>\n",
       "      <td>+18.3392359</td>\n",
       "      <td>-064.9500433</td>\n",
       "      <td>MULTIPOLYGON (((-64.76834 18.26033, -64.77074 ...</td>\n",
       "    </tr>\n",
       "    <tr>\n",
       "      <th>35</th>\n",
       "      <td>9</td>\n",
       "      <td>0</td>\n",
       "      <td>69</td>\n",
       "      <td>01779809</td>\n",
       "      <td>69</td>\n",
       "      <td>MP</td>\n",
       "      <td>Commonwealth of the Northern Mariana Islands</td>\n",
       "      <td>00</td>\n",
       "      <td>G4000</td>\n",
       "      <td>A</td>\n",
       "      <td>472292521</td>\n",
       "      <td>4644252458</td>\n",
       "      <td>+15.0010865</td>\n",
       "      <td>+145.6181702</td>\n",
       "      <td>MULTIPOLYGON (((145.05897 14.12500, 145.06302 ...</td>\n",
       "    </tr>\n",
       "    <tr>\n",
       "      <th>36</th>\n",
       "      <td>9</td>\n",
       "      <td>0</td>\n",
       "      <td>66</td>\n",
       "      <td>01802705</td>\n",
       "      <td>66</td>\n",
       "      <td>GU</td>\n",
       "      <td>Guam</td>\n",
       "      <td>00</td>\n",
       "      <td>G4000</td>\n",
       "      <td>A</td>\n",
       "      <td>543555849</td>\n",
       "      <td>934337453</td>\n",
       "      <td>+13.4417451</td>\n",
       "      <td>+144.7719021</td>\n",
       "      <td>POLYGON ((144.56343 13.44806, 144.56357 13.450...</td>\n",
       "    </tr>\n",
       "    <tr>\n",
       "      <th>41</th>\n",
       "      <td>9</td>\n",
       "      <td>0</td>\n",
       "      <td>60</td>\n",
       "      <td>01802701</td>\n",
       "      <td>60</td>\n",
       "      <td>AS</td>\n",
       "      <td>American Samoa</td>\n",
       "      <td>00</td>\n",
       "      <td>G4000</td>\n",
       "      <td>A</td>\n",
       "      <td>197759069</td>\n",
       "      <td>1307243751</td>\n",
       "      <td>-14.2671590</td>\n",
       "      <td>-170.6682674</td>\n",
       "      <td>MULTIPOLYGON (((-170.53809 -14.33613, -170.548...</td>\n",
       "    </tr>\n",
       "    <tr>\n",
       "      <th>49</th>\n",
       "      <td>9</td>\n",
       "      <td>0</td>\n",
       "      <td>72</td>\n",
       "      <td>01779808</td>\n",
       "      <td>72</td>\n",
       "      <td>PR</td>\n",
       "      <td>Puerto Rico</td>\n",
       "      <td>00</td>\n",
       "      <td>G4000</td>\n",
       "      <td>A</td>\n",
       "      <td>8869029522</td>\n",
       "      <td>4922249087</td>\n",
       "      <td>+18.2176480</td>\n",
       "      <td>-066.4107992</td>\n",
       "      <td>MULTIPOLYGON (((-66.32322 17.87767, -66.33170 ...</td>\n",
       "    </tr>\n",
       "  </tbody>\n",
       "</table>\n",
       "</div>"
      ],
      "text/plain": [
       "    region  division  statefp   statens geoid stusps  \\\n",
       "34       9         0       78  01802710    78     VI   \n",
       "35       9         0       69  01779809    69     MP   \n",
       "36       9         0       66  01802705    66     GU   \n",
       "41       9         0       60  01802701    60     AS   \n",
       "49       9         0       72  01779808    72     PR   \n",
       "\n",
       "                                            name lsad  mtfcc funcstat  \\\n",
       "34                  United States Virgin Islands   00  G4000        A   \n",
       "35  Commonwealth of the Northern Mariana Islands   00  G4000        A   \n",
       "36                                          Guam   00  G4000        A   \n",
       "41                                American Samoa   00  G4000        A   \n",
       "49                                   Puerto Rico   00  G4000        A   \n",
       "\n",
       "         aland      awater     intptlat      intptlon  \\\n",
       "34   348021909  1550236187  +18.3392359  -064.9500433   \n",
       "35   472292521  4644252458  +15.0010865  +145.6181702   \n",
       "36   543555849   934337453  +13.4417451  +144.7719021   \n",
       "41   197759069  1307243751  -14.2671590  -170.6682674   \n",
       "49  8869029522  4922249087  +18.2176480  -066.4107992   \n",
       "\n",
       "                                             geometry  \n",
       "34  MULTIPOLYGON (((-64.76834 18.26033, -64.77074 ...  \n",
       "35  MULTIPOLYGON (((145.05897 14.12500, 145.06302 ...  \n",
       "36  POLYGON ((144.56343 13.44806, 144.56357 13.450...  \n",
       "41  MULTIPOLYGON (((-170.53809 -14.33613, -170.548...  \n",
       "49  MULTIPOLYGON (((-66.32322 17.87767, -66.33170 ...  "
      ]
     },
<<<<<<< HEAD
     "execution_count": 9,
=======
     "execution_count": 25,
>>>>>>> da6874b1ca37f1425f04dce6d24ae909cdce00e8
     "metadata": {},
     "output_type": "execute_result"
    }
   ],
   "source": [
    "states[states.region==9]"
   ]
  },
  {
   "cell_type": "code",
<<<<<<< HEAD
   "execution_count": 10,
=======
   "execution_count": 26,
>>>>>>> da6874b1ca37f1425f04dce6d24ae909cdce00e8
   "metadata": {},
   "outputs": [
    {
     "data": {
      "text/plain": [
       "<AxesSubplot:>"
      ]
     },
<<<<<<< HEAD
     "execution_count": 10,
=======
     "execution_count": 26,
>>>>>>> da6874b1ca37f1425f04dce6d24ae909cdce00e8
     "metadata": {},
     "output_type": "execute_result"
    },
    {
     "data": {
      "image/png": "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",
      "text/plain": [
       "<Figure size 640x480 with 1 Axes>"
      ]
     },
     "metadata": {},
     "output_type": "display_data"
    }
   ],
   "source": [
    "states = states[states.region != 9]\n",
    "states.region.unique()\n",
    "states.plot()"
   ]
  },
  {
   "cell_type": "code",
<<<<<<< HEAD
   "execution_count": 11,
=======
   "execution_count": 27,
>>>>>>> da6874b1ca37f1425f04dce6d24ae909cdce00e8
   "metadata": {},
   "outputs": [
    {
     "data": {
      "text/plain": [
       "<AxesSubplot:>"
      ]
     },
<<<<<<< HEAD
     "execution_count": 11,
=======
     "execution_count": 27,
>>>>>>> da6874b1ca37f1425f04dce6d24ae909cdce00e8
     "metadata": {},
     "output_type": "execute_result"
    },
    {
     "data": {
      "image/png": "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",
      "text/plain": [
       "<Figure size 640x480 with 1 Axes>"
      ]
     },
     "metadata": {},
     "output_type": "display_data"
    }
   ],
   "source": [
    "states[(states.statefp!=2) & (states.region!=9)].plot()"
   ]
  },
  {
   "cell_type": "code",
<<<<<<< HEAD
   "execution_count": 12,
=======
   "execution_count": 28,
>>>>>>> da6874b1ca37f1425f04dce6d24ae909cdce00e8
   "metadata": {},
   "outputs": [
    {
     "data": {
      "text/plain": [
       "False"
      ]
     },
<<<<<<< HEAD
     "execution_count": 12,
=======
     "execution_count": 28,
>>>>>>> da6874b1ca37f1425f04dce6d24ae909cdce00e8
     "metadata": {},
     "output_type": "execute_result"
    }
   ],
   "source": [
    "states.crs == power_plants.crs"
   ]
  },
  {
   "cell_type": "code",
   "execution_count": 29,
   "metadata": {},
   "outputs": [],
   "source": [
    "states = states[states.region!=9]"
   ]
  },
  {
   "cell_type": "code",
<<<<<<< HEAD
   "execution_count": 13,
=======
   "execution_count": 30,
>>>>>>> da6874b1ca37f1425f04dce6d24ae909cdce00e8
   "metadata": {},
   "outputs": [
    {
     "data": {
      "text/plain": [
       "<Geographic 2D CRS: EPSG:4269>\n",
       "Name: NAD83\n",
       "Axis Info [ellipsoidal]:\n",
       "- Lat[north]: Geodetic latitude (degree)\n",
       "- Lon[east]: Geodetic longitude (degree)\n",
       "Area of Use:\n",
       "- name: North America - NAD83\n",
       "- bounds: (167.65, 14.92, -47.74, 86.46)\n",
       "Datum: North American Datum 1983\n",
       "- Ellipsoid: GRS 1980\n",
       "- Prime Meridian: Greenwich"
      ]
     },
<<<<<<< HEAD
     "execution_count": 13,
=======
     "execution_count": 30,
>>>>>>> da6874b1ca37f1425f04dce6d24ae909cdce00e8
     "metadata": {},
     "output_type": "execute_result"
    }
   ],
   "source": [
    "states.crs"
   ]
  },
  {
   "cell_type": "code",
<<<<<<< HEAD
   "execution_count": 14,
   "metadata": {},
   "outputs": [],
   "source": [
    "states = states[states.region!=9]"
   ]
  },
  {
   "cell_type": "code",
   "execution_count": 15,
=======
   "execution_count": 31,
>>>>>>> da6874b1ca37f1425f04dce6d24ae909cdce00e8
   "metadata": {},
   "outputs": [
    {
     "ename": "ProjError",
     "evalue": "x, y, z, and time must be same size",
     "output_type": "error",
     "traceback": [
      "\u001b[0;31m---------------------------------------------------------------------------\u001b[0m",
      "\u001b[0;31mProjError\u001b[0m                                 Traceback (most recent call last)",
      "\u001b[0;32m/tmp/ipykernel_3020776/2662493933.py\u001b[0m in \u001b[0;36m<module>\u001b[0;34m\u001b[0m\n\u001b[0;32m----> 1\u001b[0;31m \u001b[0mstates\u001b[0m \u001b[0;34m=\u001b[0m \u001b[0mstates\u001b[0m\u001b[0;34m.\u001b[0m\u001b[0mto_crs\u001b[0m\u001b[0;34m(\u001b[0m\u001b[0mpower_plants\u001b[0m\u001b[0;34m.\u001b[0m\u001b[0mcrs\u001b[0m\u001b[0;34m)\u001b[0m\u001b[0;34m\u001b[0m\u001b[0;34m\u001b[0m\u001b[0m\n\u001b[0m\u001b[1;32m      2\u001b[0m \u001b[0;34m\u001b[0m\u001b[0m\n\u001b[1;32m      3\u001b[0m \u001b[0;31m#print(states.crs == power_plants.crs)\u001b[0m\u001b[0;34m\u001b[0m\u001b[0;34m\u001b[0m\u001b[0m\n",
      "\u001b[0;32m/opt/anaconda3/lib/python3.9/site-packages/geopandas/geodataframe.py\u001b[0m in \u001b[0;36mto_crs\u001b[0;34m(self, crs, epsg, inplace)\u001b[0m\n\u001b[1;32m   1362\u001b[0m         \u001b[0;32melse\u001b[0m\u001b[0;34m:\u001b[0m\u001b[0;34m\u001b[0m\u001b[0;34m\u001b[0m\u001b[0m\n\u001b[1;32m   1363\u001b[0m             \u001b[0mdf\u001b[0m \u001b[0;34m=\u001b[0m \u001b[0mself\u001b[0m\u001b[0;34m.\u001b[0m\u001b[0mcopy\u001b[0m\u001b[0;34m(\u001b[0m\u001b[0;34m)\u001b[0m\u001b[0;34m\u001b[0m\u001b[0;34m\u001b[0m\u001b[0m\n\u001b[0;32m-> 1364\u001b[0;31m         \u001b[0mgeom\u001b[0m \u001b[0;34m=\u001b[0m \u001b[0mdf\u001b[0m\u001b[0;34m.\u001b[0m\u001b[0mgeometry\u001b[0m\u001b[0;34m.\u001b[0m\u001b[0mto_crs\u001b[0m\u001b[0;34m(\u001b[0m\u001b[0mcrs\u001b[0m\u001b[0;34m=\u001b[0m\u001b[0mcrs\u001b[0m\u001b[0;34m,\u001b[0m \u001b[0mepsg\u001b[0m\u001b[0;34m=\u001b[0m\u001b[0mepsg\u001b[0m\u001b[0;34m)\u001b[0m\u001b[0;34m\u001b[0m\u001b[0;34m\u001b[0m\u001b[0m\n\u001b[0m\u001b[1;32m   1365\u001b[0m         \u001b[0mdf\u001b[0m\u001b[0;34m.\u001b[0m\u001b[0mgeometry\u001b[0m \u001b[0;34m=\u001b[0m \u001b[0mgeom\u001b[0m\u001b[0;34m\u001b[0m\u001b[0;34m\u001b[0m\u001b[0m\n\u001b[1;32m   1366\u001b[0m         \u001b[0;32mif\u001b[0m \u001b[0;32mnot\u001b[0m \u001b[0minplace\u001b[0m\u001b[0;34m:\u001b[0m\u001b[0;34m\u001b[0m\u001b[0;34m\u001b[0m\u001b[0m\n",
      "\u001b[0;32m/opt/anaconda3/lib/python3.9/site-packages/geopandas/geoseries.py\u001b[0m in \u001b[0;36mto_crs\u001b[0;34m(self, crs, epsg)\u001b[0m\n\u001b[1;32m   1122\u001b[0m         \"\"\"\n\u001b[1;32m   1123\u001b[0m         return GeoSeries(\n\u001b[0;32m-> 1124\u001b[0;31m             \u001b[0mself\u001b[0m\u001b[0;34m.\u001b[0m\u001b[0mvalues\u001b[0m\u001b[0;34m.\u001b[0m\u001b[0mto_crs\u001b[0m\u001b[0;34m(\u001b[0m\u001b[0mcrs\u001b[0m\u001b[0;34m=\u001b[0m\u001b[0mcrs\u001b[0m\u001b[0;34m,\u001b[0m \u001b[0mepsg\u001b[0m\u001b[0;34m=\u001b[0m\u001b[0mepsg\u001b[0m\u001b[0;34m)\u001b[0m\u001b[0;34m,\u001b[0m \u001b[0mindex\u001b[0m\u001b[0;34m=\u001b[0m\u001b[0mself\u001b[0m\u001b[0;34m.\u001b[0m\u001b[0mindex\u001b[0m\u001b[0;34m,\u001b[0m \u001b[0mname\u001b[0m\u001b[0;34m=\u001b[0m\u001b[0mself\u001b[0m\u001b[0;34m.\u001b[0m\u001b[0mname\u001b[0m\u001b[0;34m\u001b[0m\u001b[0;34m\u001b[0m\u001b[0m\n\u001b[0m\u001b[1;32m   1125\u001b[0m         )\n\u001b[1;32m   1126\u001b[0m \u001b[0;34m\u001b[0m\u001b[0m\n",
      "\u001b[0;32m/opt/anaconda3/lib/python3.9/site-packages/geopandas/array.py\u001b[0m in \u001b[0;36mto_crs\u001b[0;34m(self, crs, epsg)\u001b[0m\n\u001b[1;32m    777\u001b[0m         \u001b[0mtransformer\u001b[0m \u001b[0;34m=\u001b[0m \u001b[0mTransformer\u001b[0m\u001b[0;34m.\u001b[0m\u001b[0mfrom_crs\u001b[0m\u001b[0;34m(\u001b[0m\u001b[0mself\u001b[0m\u001b[0;34m.\u001b[0m\u001b[0mcrs\u001b[0m\u001b[0;34m,\u001b[0m \u001b[0mcrs\u001b[0m\u001b[0;34m,\u001b[0m \u001b[0malways_xy\u001b[0m\u001b[0;34m=\u001b[0m\u001b[0;32mTrue\u001b[0m\u001b[0;34m)\u001b[0m\u001b[0;34m\u001b[0m\u001b[0;34m\u001b[0m\u001b[0m\n\u001b[1;32m    778\u001b[0m \u001b[0;34m\u001b[0m\u001b[0m\n\u001b[0;32m--> 779\u001b[0;31m         \u001b[0mnew_data\u001b[0m \u001b[0;34m=\u001b[0m \u001b[0mvectorized\u001b[0m\u001b[0;34m.\u001b[0m\u001b[0mtransform\u001b[0m\u001b[0;34m(\u001b[0m\u001b[0mself\u001b[0m\u001b[0;34m.\u001b[0m\u001b[0mdata\u001b[0m\u001b[0;34m,\u001b[0m \u001b[0mtransformer\u001b[0m\u001b[0;34m.\u001b[0m\u001b[0mtransform\u001b[0m\u001b[0;34m)\u001b[0m\u001b[0;34m\u001b[0m\u001b[0;34m\u001b[0m\u001b[0m\n\u001b[0m\u001b[1;32m    780\u001b[0m         \u001b[0;32mreturn\u001b[0m \u001b[0mGeometryArray\u001b[0m\u001b[0;34m(\u001b[0m\u001b[0mnew_data\u001b[0m\u001b[0;34m,\u001b[0m \u001b[0mcrs\u001b[0m\u001b[0;34m=\u001b[0m\u001b[0mcrs\u001b[0m\u001b[0;34m)\u001b[0m\u001b[0;34m\u001b[0m\u001b[0;34m\u001b[0m\u001b[0m\n\u001b[1;32m    781\u001b[0m \u001b[0;34m\u001b[0m\u001b[0m\n",
      "\u001b[0;32m/opt/anaconda3/lib/python3.9/site-packages/geopandas/_vectorized.py\u001b[0m in \u001b[0;36mtransform\u001b[0;34m(data, func)\u001b[0m\n\u001b[1;32m   1112\u001b[0m \u001b[0;34m\u001b[0m\u001b[0m\n\u001b[1;32m   1113\u001b[0m         \u001b[0mcoords_z\u001b[0m \u001b[0;34m=\u001b[0m \u001b[0mget_coordinates\u001b[0m\u001b[0;34m(\u001b[0m\u001b[0mdata\u001b[0m\u001b[0;34m[\u001b[0m\u001b[0mhas_z\u001b[0m\u001b[0;34m]\u001b[0m\u001b[0;34m,\u001b[0m \u001b[0minclude_z\u001b[0m\u001b[0;34m=\u001b[0m\u001b[0;32mTrue\u001b[0m\u001b[0;34m)\u001b[0m\u001b[0;34m\u001b[0m\u001b[0;34m\u001b[0m\u001b[0m\n\u001b[0;32m-> 1114\u001b[0;31m         \u001b[0mnew_coords_z\u001b[0m \u001b[0;34m=\u001b[0m \u001b[0mfunc\u001b[0m\u001b[0;34m(\u001b[0m\u001b[0mcoords_z\u001b[0m\u001b[0;34m[\u001b[0m\u001b[0;34m:\u001b[0m\u001b[0;34m,\u001b[0m \u001b[0;36m0\u001b[0m\u001b[0;34m]\u001b[0m\u001b[0;34m,\u001b[0m \u001b[0mcoords_z\u001b[0m\u001b[0;34m[\u001b[0m\u001b[0;34m:\u001b[0m\u001b[0;34m,\u001b[0m \u001b[0;36m1\u001b[0m\u001b[0;34m]\u001b[0m\u001b[0;34m,\u001b[0m \u001b[0mcoords_z\u001b[0m\u001b[0;34m[\u001b[0m\u001b[0;34m:\u001b[0m\u001b[0;34m,\u001b[0m \u001b[0;36m2\u001b[0m\u001b[0;34m]\u001b[0m\u001b[0;34m)\u001b[0m\u001b[0;34m\u001b[0m\u001b[0;34m\u001b[0m\u001b[0m\n\u001b[0m\u001b[1;32m   1115\u001b[0m         \u001b[0mresult\u001b[0m\u001b[0;34m[\u001b[0m\u001b[0mhas_z\u001b[0m\u001b[0;34m]\u001b[0m \u001b[0;34m=\u001b[0m \u001b[0mset_coordinates\u001b[0m\u001b[0;34m(\u001b[0m\u001b[0mdata\u001b[0m\u001b[0;34m[\u001b[0m\u001b[0mhas_z\u001b[0m\u001b[0;34m]\u001b[0m\u001b[0;34m.\u001b[0m\u001b[0mcopy\u001b[0m\u001b[0;34m(\u001b[0m\u001b[0;34m)\u001b[0m\u001b[0;34m,\u001b[0m \u001b[0mnp\u001b[0m\u001b[0;34m.\u001b[0m\u001b[0marray\u001b[0m\u001b[0;34m(\u001b[0m\u001b[0mnew_coords_z\u001b[0m\u001b[0;34m)\u001b[0m\u001b[0;34m.\u001b[0m\u001b[0mT\u001b[0m\u001b[0;34m)\u001b[0m\u001b[0;34m\u001b[0m\u001b[0;34m\u001b[0m\u001b[0m\n\u001b[1;32m   1116\u001b[0m \u001b[0;34m\u001b[0m\u001b[0m\n",
      "\u001b[0;32m/opt/anaconda3/lib/python3.9/site-packages/pyproj/transformer.py\u001b[0m in \u001b[0;36mtransform\u001b[0;34m(self, xx, yy, zz, tt, radians, errcheck, direction)\u001b[0m\n\u001b[1;32m    428\u001b[0m             \u001b[0mintime\u001b[0m \u001b[0;34m=\u001b[0m \u001b[0;32mNone\u001b[0m\u001b[0;34m\u001b[0m\u001b[0;34m\u001b[0m\u001b[0m\n\u001b[1;32m    429\u001b[0m         \u001b[0;31m# call pj_transform.  inx,iny,inz buffers modified in place.\u001b[0m\u001b[0;34m\u001b[0m\u001b[0;34m\u001b[0m\u001b[0m\n\u001b[0;32m--> 430\u001b[0;31m         self._transformer._transform(\n\u001b[0m\u001b[1;32m    431\u001b[0m             \u001b[0minx\u001b[0m\u001b[0;34m,\u001b[0m\u001b[0;34m\u001b[0m\u001b[0;34m\u001b[0m\u001b[0m\n\u001b[1;32m    432\u001b[0m             \u001b[0miny\u001b[0m\u001b[0;34m,\u001b[0m\u001b[0;34m\u001b[0m\u001b[0;34m\u001b[0m\u001b[0m\n",
      "\u001b[0;32mpyproj/_transformer.pyx\u001b[0m in \u001b[0;36mpyproj._transformer._Transformer._transform\u001b[0;34m()\u001b[0m\n",
      "\u001b[0;31mProjError\u001b[0m: x, y, z, and time must be same size"
     ]
    }
   ],
   "source": [
    "states = states.to_crs(power_plants.crs)\n",
    "\n",
    "#print(states.crs == power_plants.crs)"
   ]
  },
  {
   "cell_type": "code",
<<<<<<< HEAD
   "execution_count": 16,
=======
   "execution_count": null,
>>>>>>> da6874b1ca37f1425f04dce6d24ae909cdce00e8
   "metadata": {},
   "outputs": [],
   "source": [
    "fig, ax = plt.subplots()\n",
    "states.plot(ax=ax)\n",
    "power_plants.plot(ax=ax, color='red', alpha=0.2)\n",
    "plt.show()"
   ]
  },
  {
   "cell_type": "code",
<<<<<<< HEAD
   "execution_count": 17,
   "metadata": {},
   "outputs": [
    {
     "data": {
      "text/html": [
       "<div>\n",
       "<style scoped>\n",
       "    .dataframe tbody tr th:only-of-type {\n",
       "        vertical-align: middle;\n",
       "    }\n",
       "\n",
       "    .dataframe tbody tr th {\n",
       "        vertical-align: top;\n",
       "    }\n",
       "\n",
       "    .dataframe thead th {\n",
       "        text-align: right;\n",
       "    }\n",
       "</style>\n",
       "<table border=\"1\" class=\"dataframe\">\n",
       "  <thead>\n",
       "    <tr style=\"text-align: right;\">\n",
       "      <th></th>\n",
       "      <th>geometry</th>\n",
       "    </tr>\n",
       "  </thead>\n",
       "  <tbody>\n",
       "    <tr>\n",
       "      <th>0</th>\n",
       "      <td>POLYGON ((-180.98811 71.35454, -180.98811 15.2...</td>\n",
       "    </tr>\n",
       "  </tbody>\n",
       "</table>\n",
       "</div>"
      ],
      "text/plain": [
       "                                            geometry\n",
       "0  POLYGON ((-180.98811 71.35454, -180.98811 15.2..."
      ]
     },
     "execution_count": 17,
     "metadata": {},
     "output_type": "execute_result"
    }
   ],
=======
   "execution_count": null,
   "metadata": {},
   "outputs": [],
>>>>>>> da6874b1ca37f1425f04dce6d24ae909cdce00e8
   "source": [
    "bb = gpd.read_file('bounding_box.json')\n",
    "bb"
   ]
  },
  {
   "cell_type": "code",
<<<<<<< HEAD
   "execution_count": 18,
   "metadata": {},
   "outputs": [
    {
     "data": {
      "text/plain": [
       "True"
      ]
     },
     "execution_count": 18,
     "metadata": {},
     "output_type": "execute_result"
    }
   ],
=======
   "execution_count": null,
   "metadata": {},
   "outputs": [],
>>>>>>> da6874b1ca37f1425f04dce6d24ae909cdce00e8
   "source": [
    "bb.crs == states.crs"
   ]
  },
  {
   "cell_type": "code",
<<<<<<< HEAD
   "execution_count": 19,
=======
   "execution_count": null,
>>>>>>> da6874b1ca37f1425f04dce6d24ae909cdce00e8
   "metadata": {},
   "outputs": [],
   "source": [
    "fig, ax = plt.subplots()\n",
    "states.plot(ax=ax)\n",
    "bb.plot(ax=ax, color='none', edgecolor='red')\n",
    "plt.show()\n"
   ]
  },
  {
   "cell_type": "code",
<<<<<<< HEAD
   "execution_count": 20,
   "metadata": {},
   "outputs": [
    {
     "data": {
      "text/plain": [
       "<AxesSubplot:>"
      ]
     },
     "execution_count": 20,
     "metadata": {},
     "output_type": "execute_result"
    },
    {
     "data": {
      "image/png": "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",
      "text/plain": [
       "<Figure size 432x288 with 1 Axes>"
      ]
     },
     "metadata": {
      "needs_background": "light"
     },
     "output_type": "display_data"
    }
   ],
=======
   "execution_count": null,
   "metadata": {},
   "outputs": [],
>>>>>>> da6874b1ca37f1425f04dce6d24ae909cdce00e8
   "source": [
    "bb_states = states.clip(bb)\n",
    "bb_states.plot()"
   ]
  },
  {
   "cell_type": "code",
<<<<<<< HEAD
   "execution_count": 21,
   "metadata": {},
   "outputs": [
    {
     "data": {
      "text/plain": [
       "<AxesSubplot:>"
      ]
     },
     "execution_count": 21,
     "metadata": {},
     "output_type": "execute_result"
    },
    {
     "data": {
      "image/png": "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",
      "text/plain": [
       "<Figure size 432x288 with 1 Axes>"
      ]
     },
     "metadata": {
      "needs_background": "light"
     },
     "output_type": "display_data"
    }
   ],
=======
   "execution_count": null,
   "metadata": {},
   "outputs": [],
>>>>>>> da6874b1ca37f1425f04dce6d24ae909cdce00e8
   "source": [
    "fig, ax = plt.subplots()\n",
    "bb_states.plot(ax=ax)\n",
    "power_plants.plot(ax=ax, color='red', alpha=0.2)"
   ]
  },
  {
   "cell_type": "code",
<<<<<<< HEAD
   "execution_count": 22,
   "metadata": {},
   "outputs": [
    {
     "data": {
      "text/plain": [
       "array(['Alaska', 'Alabama', 'Texas', 'Minnesota', 'California',\n",
       "       'Kentucky', 'Nebraska', 'New York', 'Washington', 'Arizona',\n",
       "       'Kansas', 'South Carolina', 'Florida', 'Nevada', 'Utah',\n",
       "       'Oklahoma', 'Arkansas', 'Illinois', 'Colorado', 'Wyoming',\n",
       "       'Connecticut', 'Massachusetts', 'New Mexico', 'Vermont',\n",
       "       'Delaware', 'Maryland', 'Georgia', 'Missouri', 'Hawaii', 'Idaho',\n",
       "       'Maine', 'Indiana', 'North Carolina', 'Iowa', 'Louisiana',\n",
       "       'Michigan', 'Wisconsin', 'Mississippi', 'Montana', 'New Hampshire',\n",
       "       'New Jersey', 'North Dakota', 'Ohio', 'Oregon', 'Pennsylvania',\n",
       "       'Rhode Island', 'South Dakota', 'Tennessee', 'Virginia',\n",
       "       'West Virginia', 'District of Columbia', 'Puerto Rico'],\n",
       "      dtype=object)"
      ]
     },
     "execution_count": 22,
     "metadata": {},
     "output_type": "execute_result"
    }
   ],
=======
   "execution_count": null,
   "metadata": {},
   "outputs": [],
>>>>>>> da6874b1ca37f1425f04dce6d24ae909cdce00e8
   "source": [
    "power_plants.state.unique()"
   ]
  },
  {
   "cell_type": "code",
<<<<<<< HEAD
   "execution_count": 23,
   "metadata": {},
   "outputs": [
    {
     "data": {
      "text/plain": [
       "array(['petroleum', 'hydroelectric', 'natural gas', 'nuclear', 'coal',\n",
       "       'pumped storage', 'geothermal', 'wind', 'biomass', 'batteries',\n",
       "       'other', 'solar'], dtype=object)"
      ]
     },
     "execution_count": 23,
     "metadata": {},
     "output_type": "execute_result"
    }
   ],
=======
   "execution_count": null,
   "metadata": {},
   "outputs": [],
>>>>>>> da6874b1ca37f1425f04dce6d24ae909cdce00e8
   "source": [
    "power_plants.primsource.unique()"
   ]
  },
  {
   "cell_type": "code",
<<<<<<< HEAD
   "execution_count": 24,
=======
   "execution_count": null,
>>>>>>> da6874b1ca37f1425f04dce6d24ae909cdce00e8
   "metadata": {},
   "outputs": [],
   "source": [
    "power_plants = power_plants[power_plants.state != 'Puerto Rico']"
   ]
  },
  {
   "cell_type": "code",
<<<<<<< HEAD
   "execution_count": 25,
=======
   "execution_count": null,
>>>>>>> da6874b1ca37f1425f04dce6d24ae909cdce00e8
   "metadata": {},
   "outputs": [],
   "source": [
    "fig, ax = plt.subplots(figsize=(14, 10))\n",
    "\n",
    "# remove the axis box around the map\n",
    "ax.axis('off')\n",
    "# annotate the data source\n",
    "ax.annotate(\"Data: U.S. Energy Information Administration (EIA), accessed Oct 30, 2023 \\nhttps://atlas.eia.gov/datasets/eia::power-plants/about\", \n",
    "            xy=(0.17, .06), \n",
    "            xycoords='figure fraction', \n",
    "            fontsize=14, \n",
    "            color='#555555')\n",
    "\n",
    "# update title\n",
    "ax.set_title('Operable electric generating plants in the United States',\n",
    "fontsize=22)\n",
    "\n",
    "# add states \n",
    "bb_states.plot(ax=ax,\n",
    "               color='none',\n",
    "               edgecolor = '#362312')\n",
    "\n",
    "# add electric power plants colored by energy source\n",
    "power_plants.plot(ax=ax, \n",
    "                  column='primsource',\n",
    "                  legend=True,\n",
    "                  markersize = 4,\n",
    "                  cmap='tab20',\n",
    "                  alpha=0.5,\n",
    "                  # adjust legend location\n",
    "                  legend_kwds={'loc': \"upper right\", \n",
    "                                'title':'Primary energy source',\n",
    "                                'title_fontsize':'large', \n",
    "                        'fontsize':'medium'})\n",
    "\n",
    "leg = ax.get_legend()\n",
    "\n",
    "#plt.legend(prop = {'size' : 20})\n",
    "\n",
    "\n",
    "# ax.legend(fontsize=15,\n",
    "#           frameon=False)"
   ]
  },
  {
   "cell_type": "code",
<<<<<<< HEAD
   "execution_count": 26,
   "metadata": {},
   "outputs": [
    {
     "name": "stdout",
     "output_type": "stream",
     "text": [
      "\n",
      "SYSTEM INFO\n",
      "-----------\n",
      "python     : 3.9.7 | packaged by conda-forge | (default, Sep 23 2021, 07:31:23)  [Clang 11.1.0 ]\n",
      "executable : /Users/galaz-garcia/opt/anaconda3/envs/gee_env/bin/python\n",
      "machine    : macOS-13.5.2-x86_64-i386-64bit\n",
      "\n",
      "GEOS, GDAL, PROJ INFO\n",
      "---------------------\n",
      "GEOS       : 3.11.2\n",
      "GEOS lib   : None\n",
      "GDAL       : 3.6.4\n",
      "GDAL data dir: /Users/galaz-garcia/opt/anaconda3/envs/gee_env/lib/python3.9/site-packages/fiona/gdal_data\n",
      "PROJ       : 9.3.0\n",
      "PROJ data dir: /Users/galaz-garcia/opt/anaconda3/envs/gee_env/lib/python3.9/site-packages/pyproj/proj_dir/share/proj\n",
      "\n",
      "PYTHON DEPENDENCIES\n",
      "-------------------\n",
      "geopandas  : 0.14.0\n",
      "numpy      : 1.26.1\n",
      "pandas     : 2.1.2\n",
      "pyproj     : 3.6.1\n",
      "shapely    : 2.0.2\n",
      "fiona      : 1.9.5\n",
      "geoalchemy2: None\n",
      "geopy      : None\n",
      "matplotlib : 3.4.3\n",
      "mapclassify: None\n",
      "pygeos     : None\n",
      "pyogrio    : None\n",
      "psycopg2   : None\n",
      "pyarrow    : None\n",
      "rtree      : None\n"
     ]
    }
   ],
   "source": [
    "gpd.show_versions()"
   ]
  },
  {
   "cell_type": "code",
   "execution_count": 27,
   "metadata": {},
   "outputs": [
    {
     "name": "stdout",
     "output_type": "stream",
     "text": [
      "Package                  Version\n",
      "------------------------ -----------\n",
      "aiohttp                  3.7.4.post0\n",
      "anyio                    3.3.1\n",
      "appnope                  0.1.2\n",
      "argon2-cffi              21.1.0\n",
      "async-generator          1.10\n",
      "async-timeout            3.0.1\n",
      "attrs                    21.2.0\n",
      "Babel                    2.9.1\n",
      "backcall                 0.2.0\n",
      "beautifulsoup4           4.10.0\n",
      "bleach                   4.1.0\n",
      "bqplot                   0.12.30\n",
      "branca                   0.4.2\n",
      "brotlipy                 0.7.0\n",
      "cachetools               4.2.2\n",
      "certifi                  2021.10.8\n",
      "cffi                     1.14.6\n",
      "cftime                   1.5.0\n",
      "chardet                  4.0.0\n",
      "charset-normalizer       2.0.0\n",
      "click                    8.0.1\n",
      "click-plugins            1.1.1\n",
      "cligj                    0.7.2\n",
      "colour                   0.1.5\n",
      "cryptography             3.4.7\n",
      "cycler                   0.10.0\n",
      "debugpy                  1.4.3\n",
      "decorator                5.1.0\n",
      "defusedxml               0.7.1\n",
      "earthengine-api          0.1.283\n",
      "entrypoints              0.3\n",
      "ffmpeg-python            0.2.0\n",
      "fiona                    1.9.5\n",
      "folium                   0.12.1\n",
      "future                   0.18.2\n",
      "geeadd                   0.5.5\n",
      "geemap                   0.9.1\n",
      "geocoder                 1.38.1\n",
      "geojson                  2.5.0\n",
      "geopandas                0.14.0\n",
      "google-api-core          1.31.2\n",
      "google-api-python-client 1.12.8\n",
      "google-auth              1.35.0\n",
      "google-auth-httplib2     0.1.0\n",
      "google-cloud-core        1.7.1\n",
      "google-cloud-storage     1.19.0\n",
      "google-crc32c            1.1.2\n",
      "google-resumable-media   2.0.2\n",
      "googleapis-common-protos 1.53.0\n",
      "googledrivedownloader    0.4\n",
      "grpcio                   1.38.1\n",
      "httplib2                 0.19.1\n",
      "httplib2shim             0.0.3\n",
      "idna                     3.1\n",
      "importlib-metadata       4.8.1\n",
      "ipyevents                2.0.1\n",
      "ipyfilechooser           0.6.0\n",
      "ipykernel                6.4.1\n",
      "ipyleaflet               0.14.0\n",
      "ipynb-py-convert         0.4.6\n",
      "ipython                  7.27.0\n",
      "ipython-genutils         0.2.0\n",
      "ipytree                  0.2.1\n",
      "ipywidgets               7.6.5\n",
      "jedi                     0.18.0\n",
      "Jinja2                   3.0.1\n",
      "json5                    0.9.6\n",
      "jsonschema               3.2.0\n",
      "jupyter-client           7.0.1\n",
      "jupyter-core             4.8.1\n",
      "jupyter-server           1.11.0\n",
      "jupyterlab               3.1.7\n",
      "jupyterlab-pygments      0.1.2\n",
      "jupyterlab-server        2.8.2\n",
      "jupyterlab-widgets       1.0.2\n",
      "kiwisolver               1.3.2\n",
      "logzero                  1.7.0\n",
      "MarkupSafe               2.0.1\n",
      "matplotlib               3.4.3\n",
      "matplotlib-inline        0.1.3\n",
      "mistune                  0.8.4\n",
      "mkl-fft                  1.3.1\n",
      "mkl-random               1.2.2\n",
      "mkl-service              2.4.0\n",
      "mss                      6.1.0\n",
      "multidict                5.1.0\n",
      "nbclassic                0.2.6\n",
      "nbclient                 0.5.4\n",
      "nbconvert                6.1.0\n",
      "nbformat                 5.1.3\n",
      "nest-asyncio             1.5.1\n",
      "netCDF4                  1.5.7\n",
      "notebook                 6.4.5\n",
      "numpy                    1.26.1\n",
      "packaging                21.0\n",
      "pandas                   2.1.2\n",
      "pandocfilters            1.5.0\n",
      "parso                    0.8.2\n",
      "pexpect                  4.8.0\n",
      "pickleshare              0.7.5\n",
      "Pillow                   8.3.2\n",
      "pip                      21.2.4\n",
      "plotly                   5.3.1\n",
      "prometheus-client        0.11.0\n",
      "prompt-toolkit           3.0.20\n",
      "protobuf                 3.18.0\n",
      "ptyprocess               0.7.0\n",
      "pyasn1                   0.4.8\n",
      "pyasn1-modules           0.2.7\n",
      "pycparser                2.20\n",
      "PyCRS                    1.0.2\n",
      "Pygments                 2.10.0\n",
      "pyOpenSSL                20.0.1\n",
      "pyparsing                2.4.7\n",
      "pyproj                   3.6.1\n",
      "pyrsistent               0.18.0\n",
      "pyshp                    2.1.3\n",
      "PySocks                  1.7.1\n",
      "python-box               5.4.1\n",
      "python-dateutil          2.8.2\n",
      "pytz                     2021.1\n",
      "pyu2f                    0.1.5\n",
      "pyzmq                    22.3.0\n",
      "ratelim                  0.1.6\n",
      "requests                 2.26.0\n",
      "requests-unixsocket      0.2.0\n",
      "rsa                      4.7.2\n",
      "sankee                   0.0.5\n",
      "Send2Trash               1.8.0\n",
      "setuptools               58.0.4\n",
      "shapely                  2.0.2\n",
      "simplejson               3.17.5\n",
      "six                      1.16.0\n",
      "sniffio                  1.2.0\n",
      "soupsieve                2.2.1\n",
      "tenacity                 8.0.1\n",
      "terminado                0.12.1\n",
      "testpath                 0.5.0\n",
      "tornado                  6.1\n",
      "traitlets                5.1.0\n",
      "traittypes               0.2.1\n",
      "typing-extensions        3.10.0.2\n",
      "tzdata                   2023.3\n",
      "uritemplate              3.0.1\n",
      "urllib3                  1.26.7\n",
      "voila                    0.2.14\n",
      "wcwidth                  0.2.5\n",
      "webencodings             0.5.1\n",
      "websocket-client         1.2.1\n",
      "wheel                    0.37.0\n",
      "whitebox                 2.0.3\n",
      "whiteboxgui              0.6.0\n",
      "widgetsnbextension       3.5.1\n",
      "yarl                     1.6.3\n",
      "zipp                     3.6.0\n",
      "Note: you may need to restart the kernel to use updated packages.\n"
     ]
    }
   ],
=======
   "execution_count": null,
   "metadata": {},
   "outputs": [],
>>>>>>> da6874b1ca37f1425f04dce6d24ae909cdce00e8
   "source": [
    "pip list"
   ]
  },
  {
   "cell_type": "code",
   "execution_count": null,
   "metadata": {},
   "outputs": [],
   "source": []
  }
 ],
 "metadata": {
  "kernelspec": {
   "display_name": "Anaconda 3 (Base)",
   "language": "python",
   "name": "base"
  },
  "language_info": {
   "codemirror_mode": {
    "name": "ipython",
    "version": 3
   },
   "file_extension": ".py",
   "mimetype": "text/x-python",
   "name": "python",
   "nbconvert_exporter": "python",
   "pygments_lexer": "ipython3",
   "version": "3.9.13"
  },
  "orig_nbformat": 4,
  "vscode": {
   "interpreter": {
    "hash": "096ff075efa46b48fdc6093cb088d328f1206dfedfbeb0f42cf6b14174f51118"
   }
  }
 },
 "nbformat": 4,
 "nbformat_minor": 2
}
