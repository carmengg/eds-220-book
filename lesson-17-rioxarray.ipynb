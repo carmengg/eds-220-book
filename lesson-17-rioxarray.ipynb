{
  "cells": [
    {
      "cell_type": "markdown",
      "metadata": {},
      "source": [
        "<!--\n",
        "https://carpentries-incubator.github.io/geospatial-python/06-raster-intro.html\n",
        "-->\n",
        "\n",
        "# `rioxarray`\n",
        "\n",
        "`rioxarray`:\n",
        "-  is a Python extension for `xarray` to manipulate `xarray.DataArray`s as rasters. \n",
        "- means *raster input/output + xarray*. \n",
        "\n",
        "## Data\n",
        "Raster filesfrom the US National Agriculture Imagery Program (NAIP)\n",
        "\n",
        "- high-resolution aerial images from 2020 with four spectral bands: Red, Green, Blue and Near-infrared (NIR). \n",
        "- data is pre-processed into two rasters (RGB and NIR) \n",
        "\n",
        "## Import .tif"
      ]
    },
    {
      "cell_type": "code",
      "execution_count": null,
      "metadata": {},
      "outputs": [],
      "source": [
        "import os\n",
        "import numpy as np\n",
        "import matplotlib.pyplot as plt\n",
        "\n",
        "import rioxarray as rioxr\n",
        "\n",
        "import geopandas as gpd\n",
        "from shapely.geometry import Polygon"
      ]
    },
    {
      "cell_type": "markdown",
      "metadata": {},
      "source": [
        "*There are multiple ways of opening a '.tif' file using `xarray` or `rioxarray`*\n",
        "\n",
        "Use `rioxarray.open_rasterio()` function to open the '.tif' file:"
      ]
    },
    {
      "cell_type": "code",
      "execution_count": null,
      "metadata": {},
      "outputs": [],
      "source": [
        "# load NIR tif file\n",
        "nir_fp = os.path.join(os.getcwd(),'data','naip','nir.tif')\n",
        "nir = rioxr.open_rasterio(nir_fp)\n",
        "nir"
      ]
    },
    {
      "cell_type": "markdown",
      "metadata": {},
      "source": [
        "## `xr.DataArray` exploration\n",
        "\n",
        "Let's verify the raster we loaded is an `xarray.DataArray`:"
      ]
    },
    {
      "cell_type": "code",
      "execution_count": null,
      "metadata": {},
      "outputs": [],
      "source": [
        "type(nir)"
      ]
    },
    {
      "cell_type": "markdown",
      "metadata": {},
      "source": [
        "Access some attribues:"
      ]
    },
    {
      "cell_type": "code",
      "execution_count": null,
      "metadata": {},
      "outputs": [],
      "source": [
        "# print shape and data type\n",
        "print('shape: ', nir.shape)\n",
        "print('data type: ', nir.dtype, '\\n')"
      ]
    },
    {
      "cell_type": "markdown",
      "metadata": {},
      "source": [
        "The `.values` attribute gives a view at the values at the corners:"
      ]
    },
    {
      "cell_type": "code",
      "execution_count": null,
      "metadata": {},
      "outputs": [],
      "source": [
        "# nir.values is a np.array: the underlying data\n",
        "print(type(nir.values))\n",
        "nir.values"
      ]
    },
    {
      "cell_type": "markdown",
      "metadata": {},
      "source": [
        "We can also plot our data:"
      ]
    },
    {
      "cell_type": "code",
      "execution_count": null,
      "metadata": {},
      "outputs": [],
      "source": [
        "# nir spectrum captured by sensor\n",
        "nir.plot()"
      ]
    },
    {
      "cell_type": "markdown",
      "metadata": {},
      "source": [
        "*Can you guess where this?*\n",
        "\n",
        "## `rio` accessor\n",
        "\n",
        "An **accessor** in Python let's us access a different set of properties of an object.\n",
        "\n",
        "Use the `.rio` accessor for `xarray.DataArray`s to access its raster properties. \n",
        "\n",
        "For example:"
      ]
    },
    {
      "cell_type": "code",
      "execution_count": null,
      "metadata": {},
      "outputs": [],
      "source": [
        "print('# bands: ', nir.rio.count)\n",
        "print('height: ', nir.rio.height)\n",
        "print('width: ', nir.rio.width, '\\n')\n",
        "\n",
        "print('spatial bounding box: ')\n",
        "print(nir.rio.bounds(), '\\n')\n",
        "\n",
        "print('affine transformation: ')\n",
        "print(nir.rio.transform(), '\\n')\n",
        "\n",
        "print('CRS: ', nir.rio.crs)"
      ]
    },
    {
      "cell_type": "markdown",
      "metadata": {},
      "source": [
        "*We have used accessors before, for example the `.str` and `.dt` accessors in `pandas`.*\n",
        "\n",
        "## Multi-band raster\n",
        "\n",
        "Import the RGB raster:"
      ]
    },
    {
      "cell_type": "code",
      "execution_count": null,
      "metadata": {},
      "outputs": [],
      "source": [
        "# open RGB raster\n",
        "rgb_fp = os.path.join(os.getcwd(),'data','naip','rgb.tif')\n",
        "rgb = rioxr.open_rasterio(rgb_fp)\n",
        "rgb"
      ]
    },
    {
      "cell_type": "markdown",
      "metadata": {},
      "source": [
        "*Raster has three bands, instead of one. This makes sense because we know these bands correspond tothe Red, Green and Blue bands of the image.*\n",
        "\n",
        "Check number of bands and shape:"
      ]
    },
    {
      "cell_type": "code",
      "execution_count": null,
      "metadata": {},
      "outputs": [],
      "source": [
        "print('rgb shape: ', rgb.shape)\n",
        "print('rgb # bands: ', rgb.rio.count)"
      ]
    },
    {
      "cell_type": "code",
      "execution_count": null,
      "metadata": {},
      "outputs": [],
      "source": [
        "# check geospatial data\n",
        "print('shape: ', rgb.shape)\n",
        "print('data type: ', rgb.dtype)\n",
        "print('# bands: ', rgb.rio.count)\n",
        "print('CRS: ', rgb.rio.crs)\n",
        "\n",
        "# check if the CRSs of the rasters match\n",
        "print( rgb.rio.crs == nir.rio.crs)"
      ]
    },
    {
      "cell_type": "markdown",
      "metadata": {},
      "source": [
        "Plot raster\n",
        "\n",
        "Since it has three bands, we can plot it as an image using the `.plot.imshow()` method, which will interpret the three bands of the object as RGB:"
      ]
    },
    {
      "cell_type": "code",
      "execution_count": null,
      "metadata": {},
      "outputs": [
        {
          "ename": "",
          "evalue": "",
          "output_type": "error",
          "traceback": [
            "\u001b[1;31mRunning cells with 'Python 3.10.12 64-bit' requires ipykernel package.\n",
            "\u001b[1;31mRun the following command to install 'ipykernel' into the Python environment. \n",
            "\u001b[1;31mCommand: '/bin/python3 -m pip install ipykernel -U --user --force-reinstall'"
          ]
        }
      ],
      "source": [
        "# plot three bands as RGB image\n",
        "rgb.plot.imshow(figsize=(8,8))"
      ]
    },
    {
      "cell_type": "markdown",
      "metadata": {},
      "source": [
        "## Box for clipping\n",
        "\n",
        "Our area of interest (aoi) is a smaller region with a few blocks around the NCEAS building. \n",
        "\n",
        "\n",
        "*Go to https://geojson.io/ to get points*"
      ]
    },
    {
      "cell_type": "code",
      "execution_count": null,
      "metadata": {},
      "outputs": [],
      "source": [
        "# vertices of our aoi box\n",
        "points = [[-119.70608227128903, 34.426300194372274],\n",
        "          [-119.70608227128903, 34.42041139020533],\n",
        "          [-119.6967885126002, 34.42041139020533],\n",
        "          [-119.6967885126002, 34.426300194372274],\n",
        "          [-119.70608227128903, 34.426300194372274]]"
      ]
    },
    {
      "cell_type": "markdown",
      "metadata": {},
      "source": [
        "We can then create a new `geopandas.GeoDataFrame`:"
      ]
    },
    {
      "cell_type": "code",
      "execution_count": null,
      "metadata": {},
      "outputs": [],
      "source": [
        "# create geodataframe with aoi \n",
        "aoi = gpd.GeoDataFrame(geometry=[Polygon(points)],\n",
        "                           crs='epsg:4326')\n",
        "aoi"
      ]
    },
    {
      "cell_type": "markdown",
      "metadata": {},
      "source": [
        "Let's break this down a bit:\n",
        "\n",
        "- first, we use the `shapely`'s `Polygon()` function to create a polygon from our `points` list. \n",
        "- in `[Polygon(points)]` we put this polygon inside a list so we can form the geometry column of our new `gpd.GeoDataFrame`\n",
        "- we know all the geoJSON files have CRS equal to EPSG:4326/WGS 84, so we set the the CRS of our new `gpd.GeoDataFrame` to this.\n",
        "\n",
        "## Clip raster\n",
        "\n",
        "Remember: **if two geospatial sets will interact they need to be in the same CRS**.  \n",
        "In our case, the aoi `gpd.GeoDataFrame` does not have the same CRS as the rasters:"
      ]
    },
    {
      "cell_type": "code",
      "execution_count": null,
      "metadata": {},
      "outputs": [],
      "source": [
        "print('aoi CRS: ', aoi.crs)\n",
        "print('nir CRS: ', nir.rio.crs)\n",
        "print('rgb CRS: ', rgb.rio.crs)"
      ]
    },
    {
      "cell_type": "markdown",
      "metadata": {},
      "source": [
        "So let's reproject:"
      ]
    },
    {
      "cell_type": "code",
      "execution_count": null,
      "metadata": {},
      "outputs": [],
      "source": [
        "aoi = aoi.to_crs(rgb.rio.crs)\n",
        "print('matched crs?',  aoi.crs == rgb.rio.crs)\n",
        "aoi.crs"
      ]
    },
    {
      "cell_type": "markdown",
      "metadata": {},
      "source": [
        "And plot them together:"
      ]
    },
    {
      "cell_type": "code",
      "execution_count": null,
      "metadata": {},
      "outputs": [],
      "source": [
        "fig, ax = plt.subplots()\n",
        "fig.set_size_inches((8,8))\n",
        "rgb.plot.imshow(ax=ax)\n",
        "aoi.plot(ax=ax, alpha=0.6)"
      ]
    },
    {
      "cell_type": "markdown",
      "metadata": {},
      "source": [
        "To clip the raster using the aoi polygon we use the `.rio.clip_box()` method:"
      ]
    },
    {
      "cell_type": "code",
      "execution_count": null,
      "metadata": {},
      "outputs": [],
      "source": [
        "# clip rasters to aoi\n",
        "rgb_small = rgb.rio.clip_box(*aoi.total_bounds)\n",
        "nir_small = nir.rio.clip_box(*aoi.total_bounds)"
      ]
    },
    {
      "cell_type": "markdown",
      "metadata": {},
      "source": [
        "Notice a few things:\n",
        "- we had to use the `.rio` accessor to access the `clip_box()` method \n",
        "- similarly to the `shapely.box()` function [we've used previously](https://carmengg.github.io/eds-220-book/lectures/lesson-13-standin.html#clipping-with-bounding-box), [`.rio.clip_box()` usual parameters](https://corteva.github.io/rioxarray/stable/rioxarray.html#rioxarray.raster_dataset.RasterDataset.clip_box) are minx, miny, maxx, maxy. We are using the `*` asterisk as an unpacking operator to get these from the list `aoi.total_bounds`.\n",
        "\n",
        "Let's check our clipped data:"
      ]
    },
    {
      "cell_type": "code",
      "execution_count": null,
      "metadata": {},
      "outputs": [],
      "source": [
        "print('original shape: ', rgb.shape)\n",
        "print('reduced shape: ', rgb_small.shape)\n",
        "rgb_small.plot.imshow()"
      ]
    },
    {
      "cell_type": "code",
      "execution_count": null,
      "metadata": {},
      "outputs": [],
      "source": [
        "print('original shape: ', nir.shape)\n",
        "print('reduced shape: ', nir_small.shape)\n",
        "nir_small.plot()"
      ]
    },
    {
      "cell_type": "markdown",
      "metadata": {},
      "source": [
        "## Compute NDVI\n",
        "\n",
        "We often want to combine values of and perform calculations on rasters to create a new output raster. \n",
        "In our case, we are interested in computing the Normalized Difference Vegetation Index (NDVI) over our area of interest. \n",
        "The NDVI is an index commonly used to check if an area has live green vegetation or not.\n",
        "\n",
        "According to the [Earth Observing System](https://eos.com/blog/ndvi-faq-all-you-need-to-know-about-ndvi/)\n",
        "> The results of the NDVI calculation range from -1 to 1. Negative values correspond to areas with water surfaces, manmade structures, rocks, clouds, snow; bare soil usually falls within 0.1-0.2 range; and plants will always have positive values between 0.2 and 1. Healthy, dense vegetation canopy should be above 0.5, and sparse vegetation will most likely fall within 0.2 to 0.5. \n",
        "\n",
        "The NDVI is calculated using the NIR and red bands. \n",
        "The formula is\n",
        "\n",
        "$NDVI = \\frac{NIR - Red}{NIR + Red}.$\n",
        "\n",
        "First, we need to select the red band:"
      ]
    },
    {
      "cell_type": "code",
      "execution_count": null,
      "metadata": {},
      "outputs": [],
      "source": [
        "red = rgb_small.sel(band=1)\n",
        "red"
      ]
    },
    {
      "cell_type": "markdown",
      "metadata": {},
      "source": [
        "To be able to perform the calculation succefully, we will need to udpate the data type of our rasters:"
      ]
    },
    {
      "cell_type": "code",
      "execution_count": null,
      "metadata": {},
      "outputs": [],
      "source": [
        "red16 = red.astype('int16')\n",
        "nir16 = nir_small.astype('int16')\n",
        "print('RED: original dtype:', rgb_small.dtype, '.... converted dtype:', red16.dtype)\n",
        "print('NIR: original dtype:', nir.dtype, '.... converted dtype:', nir16.dtype)"
      ]
    },
    {
      "cell_type": "markdown",
      "metadata": {},
      "source": [
        "We can perform raster calculations using the same arithmetic we use for `np.array`s (because, underneath it all, they are). \n",
        "So our NDVI calculation is as follows:"
      ]
    },
    {
      "cell_type": "code",
      "execution_count": null,
      "metadata": {},
      "outputs": [],
      "source": [
        "# calculate and plot NDVI\n",
        "ndvi = (nir16 - red16)/(nir16+red16)\n",
        "ndvi.plot()"
      ]
    },
    {
      "cell_type": "markdown",
      "metadata": {},
      "source": [
        "Remember that plants will always have positive NDVI values between 0.2 and 1. \n",
        "Can you spot the Courthouse?\n",
        "\n",
        ":::{.calllout-caution collapse=\"true\"}\n",
        "# Why change the data type?\n",
        "The `uint8` (8-bit unsigned integer) is a very small data type that only holds integers from 0 up to 255. \n",
        "In particular, calculations don't  return what we'd expect ([they're done module 256](https://en.wikipedia.org/wiki/Modular_arithmetic)):"
      ]
    },
    {
      "cell_type": "code",
      "execution_count": null,
      "metadata": {},
      "outputs": [],
      "source": [
        "np.uint8(150) + np.uint8(150)"
      ]
    },
    {
      "cell_type": "markdown",
      "metadata": {},
      "source": [
        "Notice that in the NDVI formula we have to add NIR + Red. \n",
        "If both NIR and Red are very close to 255, when we add them this overflows the `unit8` data type and we get garbage out of the calculation:"
      ]
    },
    {
      "cell_type": "code",
      "execution_count": null,
      "metadata": {},
      "outputs": [],
      "source": [
        "x = (nir - red)/(nir + red)\n",
        "x.plot()"
      ]
    },
    {
      "cell_type": "markdown",
      "metadata": {},
      "source": [
        "This is why we need to manually convert both rasters into `int16`, which will be big enough to hold all the numbers that appear in the calculations.\n",
        "\n",
        "Notice too, that when we performed the ndvi calculation we did not get any warning although we were overflowing the computation at every cell of our array. \n",
        "This is can be an example of *failing silently*, where we don't get any warnings about the errors in our computation. \n",
        "That's why it's so important to double-check our results!\n",
        ":::"
      ]
    }
  ],
  "metadata": {
    "kernelspec": {
      "display_name": "Python 3.9.13 ('base')",
      "language": "python",
      "name": "python3"
    },
    "language_info": {
      "name": "python",
      "version": "3.9.13"
    },
    "vscode": {
      "interpreter": {
        "hash": "40d3a090f54c6569ab1632332b64b2c03c39dcf918b08424e98f38b5ae0af88f"
      }
    }
  },
  "nbformat": 4,
  "nbformat_minor": 4
}
